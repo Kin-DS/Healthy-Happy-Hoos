{
 "cells": [
  {
   "cell_type": "code",
   "execution_count": 1,
   "id": "6cc23d20",
   "metadata": {},
   "outputs": [],
   "source": [
    "import pandas as pd\n",
    "import numpy as np\n",
    "import seaborn as sns\n",
    "import matplotlib as plt\n",
    "import plotly.graph_objects as go\n",
    "import plotly.express as px\n",
    "import math\n",
    "import geopandas as gpd\n",
    "import matplotlib.pyplot as plt\n",
    "import datetime\n",
    "from ipywidgets import widgets\n",
    "from sklearn.preprocessing import MinMaxScaler\n",
    "from sklearn.model_selection import train_test_split\n",
    "from sklearn.linear_model import LinearRegression"
   ]
  },
  {
   "cell_type": "code",
   "execution_count": 2,
   "id": "a619479f",
   "metadata": {},
   "outputs": [],
   "source": [
    "# read in spreadsheets:\n",
    "path = \"C:/Users/kinna/OneDrive/MSDS/Notes/DS 5100/Project/Healthy-Happy-Hoos/World Happiness Report 2015-2016/\"\n",
    "df2015 = pd.read_csv(path+\"2015.csv\")\n",
    "df2016 = pd.read_csv(path+\"2016.csv\")\n",
    "df2017 = pd.read_csv(path+\"2017.csv\")\n",
    "df2018 = pd.read_csv(path+\"2018.csv\")\n",
    "df2019 = pd.read_csv(path+\"2019.csv\")\n",
    "suicidepath=\"C:/Users/kinna/OneDrive/MSDS/Notes/DS 5100/Project/Healthy-Happy-Hoos/\"\n",
    "dfsuicide = pd.read_csv(suicidepath+\"who_suicide_statistics.csv\")\n",
    "world = gpd.read_file(gpd.datasets.get_path('naturalearth_lowres'))"
   ]
  },
  {
   "cell_type": "code",
   "execution_count": 3,
   "id": "c12dd664",
   "metadata": {},
   "outputs": [],
   "source": [
    "#rename columns for agreement across dataframes\n",
    "world = world.rename(columns = {'continent':'Continent'})\n",
    "world = world.rename(columns = {'name':'Country'}) \n",
    "world = world.rename(columns = {'iso_a3':'Country_Code'})"
   ]
  },
  {
   "cell_type": "code",
   "execution_count": 4,
   "id": "4cd95b3b",
   "metadata": {},
   "outputs": [],
   "source": [
    "#drop Antarctica\n",
    "world = world[world.Country!=\"Antarctica\"]"
   ]
  },
  {
   "cell_type": "code",
   "execution_count": 5,
   "id": "81ba411d",
   "metadata": {},
   "outputs": [],
   "source": [
    "#rename Czechia to Czech Republic\n",
    "world['Country'] = world['Country'].replace({'Czechia': 'Czech Republic'})"
   ]
  },
  {
   "cell_type": "code",
   "execution_count": 6,
   "id": "e762aacd",
   "metadata": {},
   "outputs": [],
   "source": [
    "#remove population and gdp columns\n",
    "world = world.drop(['pop_est','gdp_md_est'], axis = 1)"
   ]
  },
  {
   "cell_type": "code",
   "execution_count": 7,
   "id": "bdedd381",
   "metadata": {},
   "outputs": [],
   "source": [
    "# add year column to happiness data\n",
    "df2015['year'] = 2015\n",
    "df2016['year'] = 2016\n",
    "df2017['year'] = 2017\n",
    "df2018['year'] = 2018\n",
    "df2019['year'] = 2019"
   ]
  },
  {
   "cell_type": "code",
   "execution_count": 8,
   "id": "b97ba04c",
   "metadata": {},
   "outputs": [],
   "source": [
    "#remove inconsistent columns\n",
    "df2015 = df2015.drop(['Standard Error', \"Dystopia Residual\",\"Region\"], axis=1)\n",
    "df2016 = df2016.drop(['Lower Confidence Interval','Upper Confidence Interval',\"Dystopia Residual\",\"Region\"], axis=1)\n",
    "df2017 = df2017.drop(['Whisker.high','Whisker.low','Dystopia.Residual'], axis=1)"
   ]
  },
  {
   "cell_type": "code",
   "execution_count": 9,
   "id": "6526d861",
   "metadata": {},
   "outputs": [],
   "source": [
    "#rename column names for consistency\n",
    "df2017 = df2017.rename(columns = {\"Economy..GDP.per.Capita.\":\"Economy (GDP per Capita)\",\n",
    "                                  \"Happiness.Rank\":\"Happiness Rank\",\n",
    "                                  \"Happiness.Score\":\"Happiness Score\",\n",
    "                                  \"Health..Life.Expectancy.\":\"Health (Life Expectancy)\",\n",
    "                                  \"Trust..Government.Corruption.\":\"Trust (Government Corruption)\"})\n",
    "df2018 = df2018.rename(columns = {'Country or region':\"Country\",\n",
    "                                  \"Freedom to make life choices\":\"Freedom\",\n",
    "                                  \"GDP per capita\":\"Economy (GDP per Capita)\",\n",
    "                                  \"Score\":\"Happiness Score\",\n",
    "                                  \"Healthy life expectancy\":\"Health (Life Expectancy)\",\n",
    "                                  \"Perceptions of corruption\":\"Trust (Government Corruption)\",\n",
    "                                  \"Overall rank\":\"Happiness Rank\",\n",
    "                                  \"Social support\":\"Family\"})\n",
    "df2019 = df2019.rename(columns = {'Country or region':\"Country\",\n",
    "                                  \"Freedom to make life choices\":\"Freedom\",\n",
    "                                  \"GDP per capita\":\"Economy (GDP per Capita)\",\n",
    "                                  \"Score\":\"Happiness Score\",\n",
    "                                  \"Healthy life expectancy\":\"Health (Life Expectancy)\",\n",
    "                                  \"Perceptions of corruption\":\"Trust (Government Corruption)\",\n",
    "                                  \"Overall rank\":\"Happiness Rank\",\n",
    "                                  \"Social support\":\"Family\"})"
   ]
  },
  {
   "cell_type": "code",
   "execution_count": 10,
   "id": "fa63fc25",
   "metadata": {},
   "outputs": [
    {
     "data": {
      "text/plain": [
       "['Country',\n",
       " 'Economy (GDP per Capita)',\n",
       " 'Family',\n",
       " 'Freedom',\n",
       " 'Generosity',\n",
       " 'Happiness Rank',\n",
       " 'Happiness Score',\n",
       " 'Health (Life Expectancy)',\n",
       " 'Trust (Government Corruption)',\n",
       " 'year']"
      ]
     },
     "execution_count": 10,
     "metadata": {},
     "output_type": "execute_result"
    }
   ],
   "source": [
    "# combine happiness data (2015-2016)\n",
    "happy = df2015.append(df2016)\n",
    "sorted(happy)"
   ]
  },
  {
   "cell_type": "code",
   "execution_count": 11,
   "id": "024710f2",
   "metadata": {},
   "outputs": [],
   "source": [
    "#combine all happiness data (2015-2019)\n",
    "happy_all = happy.append(df2017)\n",
    "happy_all = happy_all.append(df2018)\n",
    "happy_all = happy_all.append(df2019)"
   ]
  },
  {
   "cell_type": "code",
   "execution_count": 13,
   "id": "7e206e6a",
   "metadata": {},
   "outputs": [],
   "source": [
    "#rename for agreement across dataframes (world df used United States of America)\n",
    "happy_all = happy_all.replace({'United States':'United States of America'})"
   ]
  },
  {
   "cell_type": "code",
   "execution_count": 14,
   "id": "d36042bc",
   "metadata": {},
   "outputs": [
    {
     "data": {
      "text/plain": [
       "Happiness Score                  0\n",
       "Economy (GDP per Capita)         0\n",
       "Family                           0\n",
       "Health (Life Expectancy)         0\n",
       "Freedom                          0\n",
       "Trust (Government Corruption)    1\n",
       "Generosity                       0\n",
       "dtype: int64"
      ]
     },
     "execution_count": 14,
     "metadata": {},
     "output_type": "execute_result"
    }
   ],
   "source": [
    "#dropping 'Happiness Rank', 'Country' and 'year'\n",
    "happy_all_ForPrediction= happy_all.copy(deep=True)\n",
    "happy_all_ForPrediction.drop(['Happiness Rank', 'Country', 'year'], axis=1, inplace=True)\n",
    "happy_all_ForPrediction.isnull().sum()"
   ]
  },
  {
   "cell_type": "code",
   "execution_count": 15,
   "id": "96a71d64",
   "metadata": {},
   "outputs": [],
   "source": [
    "# We cleaned NA data from our variables to make further investigation on data year from 2015 to 2019\n",
    "happy_all_ForPrediction.isnull().sum()\n",
    "is_NaN = happy_all_ForPrediction.isnull()\n",
    "row_has_NaN = is_NaN. any(axis=1)\n",
    "rows_with_NaN = happy_all_ForPrediction[row_has_NaN]\n",
    "rows_with_NaN\n",
    "happy_all_ForPrediction = happy_all_ForPrediction.dropna()\n"
   ]
  },
  {
   "cell_type": "code",
   "execution_count": 16,
   "id": "bc02e353",
   "metadata": {},
   "outputs": [
    {
     "data": {
      "image/png": "[encoded data removed]",
      "text/plain": [
       "<Figure size 1260x1260 with 56 Axes>"
      ]
     },
     "metadata": {
      "needs_background": "light"
     },
     "output_type": "display_data"
    }
   ],
   "source": [
    "#Exploratory data analysis (“EDA”) \n",
    "g = sns.PairGrid(data = happy_all_ForPrediction, vars = ['Happiness Score','Economy (GDP per Capita)','Family','Health (Life Expectancy)', 'Freedom','Generosity','Trust (Government Corruption)'])\n",
    "g.map_diag(plt.hist)\n",
    "g.map_offdiag(plt.scatter);"
   ]
  },
  {
   "cell_type": "code",
   "execution_count": 62,
   "id": "e9f70748",
   "metadata": {},
   "outputs": [
    {
     "data": {
      "image/png": "[encoded data removed]",
      "text/plain": [
       "<Figure size 792x720 with 2 Axes>"
      ]
     },
     "metadata": {},
     "output_type": "display_data"
    }
   ],
   "source": [
    "#plotting correlation map for data from 2015-2019 merged together\n",
    "plt.figure(figsize=(11, 10))\n",
    "sns.set(font_scale=1.45)\n",
    "sns.heatmap(happy_all_ForPrediction.corr(), annot=True, vmin=-1.0, vmax=1.0, cmap=\"PiYG\")#BrBG\n",
    "plt.show()"
   ]
  },
  {
   "cell_type": "code",
   "execution_count": 82,
   "id": "87cc85f7",
   "metadata": {},
   "outputs": [],
   "source": [
    "import random\n"
   ]
  },
  {
   "cell_type": "code",
   "execution_count": 94,
   "id": "b63ac758",
   "metadata": {},
   "outputs": [],
   "source": [
    "#Putting Happiness score as y (response variable) and everythihng else as predictor\n",
    "y = happy_all_ForPrediction['Happiness Score']\n",
    "X = happy_all_ForPrediction.drop('Happiness Score', axis=1)"
   ]
  },
  {
   "cell_type": "code",
   "execution_count": 95,
   "id": "2b836e58",
   "metadata": {},
   "outputs": [],
   "source": [
    "scaler = MinMaxScaler()\n",
    "X = pd.DataFrame(scaler.fit_transform(X), columns=X.columns)"
   ]
  },
  {
   "cell_type": "code",
   "execution_count": 96,
   "id": "d498bb87",
   "metadata": {},
   "outputs": [],
   "source": [
    "#splitting dataset into 70% trainign and 30% into testing\n",
    "X_train, X_test, y_train, y_test = train_test_split(X, y, train_size=0.7, random_state=100)"
   ]
  },
  {
   "cell_type": "code",
   "execution_count": 97,
   "id": "57135d5b",
   "metadata": {},
   "outputs": [
    {
     "name": "stdout",
     "output_type": "stream",
     "text": [
      "Regression R2: 0.7725629878385142\n"
     ]
    }
   ],
   "source": [
    "#fitting linear regression model\n",
    "model = LinearRegression()\n",
    "model.fit(X_train, y_train)\n",
    "#R2 is printed here:\n",
    "print(f\"Regression R2: {model.score(X_test, y_test)}\")#0.7725629878385142"
   ]
  },
  {
   "cell_type": "code",
   "execution_count": 35,
   "id": "64d3a418",
   "metadata": {},
   "outputs": [],
   "source": [
    "#Merging happy all with world data\n",
    "happy_all_world = world.merge(happy_all, on ='Country')"
   ]
  },
  {
   "cell_type": "code",
   "execution_count": 36,
   "id": "d7d3e320",
   "metadata": {},
   "outputs": [],
   "source": [
    "#combining the top 10 happy countries together\n",
    "rslt_df2015 = happy_all_world[(happy_all_world['Happiness Rank'] <=10) &\n",
    "          (happy_all_world['year']==2015)].sort_values('Happiness Rank', ascending=False)\n",
    "rslt_df2016 = happy_all_world[(happy_all_world['Happiness Rank'] <=10) &\n",
    "          (happy_all_world['year']==2016)].sort_values('Happiness Rank', ascending=False)\n",
    "rslt_df2017 = happy_all_world[(happy_all_world['Happiness Rank'] <=10) &\n",
    "          (happy_all_world['year']==2017)].sort_values('Happiness Rank', ascending=False)\n",
    "rslt_df2018 = happy_all_world[(happy_all_world['Happiness Rank'] <=10) &\n",
    "          (happy_all_world['year']==2018)].sort_values('Happiness Rank', ascending=False)\n",
    "rslt_df2019 = happy_all_world[(happy_all_world['Happiness Rank'] <=10) &\n",
    "          (happy_all_world['year']==2019)].sort_values('Happiness Rank', ascending=False)\n",
    "rslt_df=pd.concat([rslt_df2015, rslt_df2016, rslt_df2017, rslt_df2018, rslt_df2019])"
   ]
  },
  {
   "cell_type": "code",
   "execution_count": 38,
   "id": "f6b87601",
   "metadata": {},
   "outputs": [
    {
     "data": {
      "text/html": [
       "<div>\n",
       "<style scoped>\n",
       "    .dataframe tbody tr th:only-of-type {\n",
       "        vertical-align: middle;\n",
       "    }\n",
       "\n",
       "    .dataframe tbody tr th {\n",
       "        vertical-align: top;\n",
       "    }\n",
       "\n",
       "    .dataframe thead th {\n",
       "        text-align: right;\n",
       "    }\n",
       "</style>\n",
       "<table border=\"1\" class=\"dataframe\">\n",
       "  <thead>\n",
       "    <tr style=\"text-align: right;\">\n",
       "      <th></th>\n",
       "      <th>Continent</th>\n",
       "      <th>Country</th>\n",
       "      <th>Country_Code</th>\n",
       "      <th>geometry</th>\n",
       "      <th>Happiness Rank</th>\n",
       "      <th>Happiness Score</th>\n",
       "      <th>Economy (GDP per Capita)</th>\n",
       "      <th>Family</th>\n",
       "      <th>Health (Life Expectancy)</th>\n",
       "      <th>Freedom</th>\n",
       "      <th>Trust (Government Corruption)</th>\n",
       "      <th>Generosity</th>\n",
       "      <th>year</th>\n",
       "    </tr>\n",
       "  </thead>\n",
       "  <tbody>\n",
       "    <tr>\n",
       "      <th>5</th>\n",
       "      <td>North America</td>\n",
       "      <td>Canada</td>\n",
       "      <td>CAN</td>\n",
       "      <td>MULTIPOLYGON (((-122.84000 49.00000, -122.9742...</td>\n",
       "      <td>5</td>\n",
       "      <td>7.427</td>\n",
       "      <td>1.326290</td>\n",
       "      <td>1.322610</td>\n",
       "      <td>0.905630</td>\n",
       "      <td>0.632970</td>\n",
       "      <td>0.329570</td>\n",
       "      <td>0.45811</td>\n",
       "      <td>2015</td>\n",
       "    </tr>\n",
       "    <tr>\n",
       "      <th>6</th>\n",
       "      <td>North America</td>\n",
       "      <td>Canada</td>\n",
       "      <td>CAN</td>\n",
       "      <td>MULTIPOLYGON (((-122.84000 49.00000, -122.9742...</td>\n",
       "      <td>6</td>\n",
       "      <td>7.404</td>\n",
       "      <td>1.440150</td>\n",
       "      <td>1.096100</td>\n",
       "      <td>0.827600</td>\n",
       "      <td>0.573700</td>\n",
       "      <td>0.313290</td>\n",
       "      <td>0.44834</td>\n",
       "      <td>2016</td>\n",
       "    </tr>\n",
       "    <tr>\n",
       "      <th>7</th>\n",
       "      <td>North America</td>\n",
       "      <td>Canada</td>\n",
       "      <td>CAN</td>\n",
       "      <td>MULTIPOLYGON (((-122.84000 49.00000, -122.9742...</td>\n",
       "      <td>7</td>\n",
       "      <td>7.316</td>\n",
       "      <td>1.479204</td>\n",
       "      <td>1.481349</td>\n",
       "      <td>0.834558</td>\n",
       "      <td>0.611101</td>\n",
       "      <td>0.287372</td>\n",
       "      <td>0.43554</td>\n",
       "      <td>2017</td>\n",
       "    </tr>\n",
       "    <tr>\n",
       "      <th>8</th>\n",
       "      <td>North America</td>\n",
       "      <td>Canada</td>\n",
       "      <td>CAN</td>\n",
       "      <td>MULTIPOLYGON (((-122.84000 49.00000, -122.9742...</td>\n",
       "      <td>7</td>\n",
       "      <td>7.328</td>\n",
       "      <td>1.330000</td>\n",
       "      <td>1.532000</td>\n",
       "      <td>0.896000</td>\n",
       "      <td>0.653000</td>\n",
       "      <td>0.291000</td>\n",
       "      <td>0.32100</td>\n",
       "      <td>2018</td>\n",
       "    </tr>\n",
       "    <tr>\n",
       "      <th>9</th>\n",
       "      <td>North America</td>\n",
       "      <td>Canada</td>\n",
       "      <td>CAN</td>\n",
       "      <td>MULTIPOLYGON (((-122.84000 49.00000, -122.9742...</td>\n",
       "      <td>9</td>\n",
       "      <td>7.278</td>\n",
       "      <td>1.365000</td>\n",
       "      <td>1.505000</td>\n",
       "      <td>1.039000</td>\n",
       "      <td>0.584000</td>\n",
       "      <td>0.308000</td>\n",
       "      <td>0.28500</td>\n",
       "      <td>2019</td>\n",
       "    </tr>\n",
       "  </tbody>\n",
       "</table>\n",
       "</div>"
      ],
      "text/plain": [
       "       Continent Country Country_Code  \\\n",
       "5  North America  Canada          CAN   \n",
       "6  North America  Canada          CAN   \n",
       "7  North America  Canada          CAN   \n",
       "8  North America  Canada          CAN   \n",
       "9  North America  Canada          CAN   \n",
       "\n",
       "                                            geometry  Happiness Rank  \\\n",
       "5  MULTIPOLYGON (((-122.84000 49.00000, -122.9742...               5   \n",
       "6  MULTIPOLYGON (((-122.84000 49.00000, -122.9742...               6   \n",
       "7  MULTIPOLYGON (((-122.84000 49.00000, -122.9742...               7   \n",
       "8  MULTIPOLYGON (((-122.84000 49.00000, -122.9742...               7   \n",
       "9  MULTIPOLYGON (((-122.84000 49.00000, -122.9742...               9   \n",
       "\n",
       "   Happiness Score  Economy (GDP per Capita)    Family  \\\n",
       "5            7.427                  1.326290  1.322610   \n",
       "6            7.404                  1.440150  1.096100   \n",
       "7            7.316                  1.479204  1.481349   \n",
       "8            7.328                  1.330000  1.532000   \n",
       "9            7.278                  1.365000  1.505000   \n",
       "\n",
       "   Health (Life Expectancy)   Freedom  Trust (Government Corruption)  \\\n",
       "5                  0.905630  0.632970                       0.329570   \n",
       "6                  0.827600  0.573700                       0.313290   \n",
       "7                  0.834558  0.611101                       0.287372   \n",
       "8                  0.896000  0.653000                       0.291000   \n",
       "9                  1.039000  0.584000                       0.308000   \n",
       "\n",
       "   Generosity  year  \n",
       "5     0.45811  2015  \n",
       "6     0.44834  2016  \n",
       "7     0.43554  2017  \n",
       "8     0.32100  2018  \n",
       "9     0.28500  2019  "
      ]
     },
     "execution_count": 38,
     "metadata": {},
     "output_type": "execute_result"
    }
   ],
   "source": [
    "#checking Canada since it is observed in each data year\n",
    "rslt_df.query(\"Country=='Canada'\")"
   ]
  },
  {
   "cell_type": "code",
   "execution_count": 39,
   "id": "2b24482a",
   "metadata": {},
   "outputs": [
    {
     "name": "stderr",
     "output_type": "stream",
     "text": [
      "C:\\Users\\kinna\\anaconda3\\envs\\geo_env\\lib\\site-packages\\geopandas\\geodataframe.py:1322: SettingWithCopyWarning: \n",
      "A value is trying to be set on a copy of a slice from a DataFrame.\n",
      "Try using .loc[row_indexer,col_indexer] = value instead\n",
      "\n",
      "See the caveats in the documentation: https://pandas.pydata.org/pandas-docs/stable/user_guide/indexing.html#returning-a-view-versus-a-copy\n",
      "  super(GeoDataFrame, self).__setitem__(key, value)\n"
     ]
    }
   ],
   "source": [
    "canada=rslt_df.query(\"Country=='Canada'\")\n",
    "canada['Happiness_Lag']=canada['Happiness Score'].shift(periods=1)\n",
    "canada['pct_change']=(canada['Happiness Score']-canada['Happiness_Lag'])/canada['Happiness_Lag'] *100"
   ]
  },
  {
   "cell_type": "code",
   "execution_count": 40,
   "id": "266030d5",
   "metadata": {},
   "outputs": [
    {
     "data": {
      "text/plain": [
       "-0.5041294940823549"
      ]
     },
     "execution_count": 40,
     "metadata": {},
     "output_type": "execute_result"
    }
   ],
   "source": [
    "#happiness change for canada from 2015 to 2019\n",
    "canada[\"pct_change\"].mean()"
   ]
  },
  {
   "cell_type": "code",
   "execution_count": 41,
   "id": "0d25264a",
   "metadata": {},
   "outputs": [
    {
     "data": {
      "text/html": [
       "<div>\n",
       "<style scoped>\n",
       "    .dataframe tbody tr th:only-of-type {\n",
       "        vertical-align: middle;\n",
       "    }\n",
       "\n",
       "    .dataframe tbody tr th {\n",
       "        vertical-align: top;\n",
       "    }\n",
       "\n",
       "    .dataframe thead th {\n",
       "        text-align: right;\n",
       "    }\n",
       "</style>\n",
       "<table border=\"1\" class=\"dataframe\">\n",
       "  <thead>\n",
       "    <tr style=\"text-align: right;\">\n",
       "      <th></th>\n",
       "      <th>Continent</th>\n",
       "      <th>Country</th>\n",
       "      <th>Country_Code</th>\n",
       "      <th>geometry</th>\n",
       "      <th>Happiness Rank</th>\n",
       "      <th>Happiness Score</th>\n",
       "      <th>Economy (GDP per Capita)</th>\n",
       "      <th>Family</th>\n",
       "      <th>Health (Life Expectancy)</th>\n",
       "      <th>Freedom</th>\n",
       "      <th>Trust (Government Corruption)</th>\n",
       "      <th>Generosity</th>\n",
       "      <th>year</th>\n",
       "    </tr>\n",
       "  </thead>\n",
       "  <tbody>\n",
       "    <tr>\n",
       "      <th>546</th>\n",
       "      <td>Oceania</td>\n",
       "      <td>Australia</td>\n",
       "      <td>AUS</td>\n",
       "      <td>MULTIPOLYGON (((147.68926 -40.80826, 148.28907...</td>\n",
       "      <td>10</td>\n",
       "      <td>7.284</td>\n",
       "      <td>1.333580</td>\n",
       "      <td>1.309230</td>\n",
       "      <td>0.931560</td>\n",
       "      <td>0.651240</td>\n",
       "      <td>0.356370</td>\n",
       "      <td>0.435620</td>\n",
       "      <td>2015</td>\n",
       "    </tr>\n",
       "    <tr>\n",
       "      <th>541</th>\n",
       "      <td>Oceania</td>\n",
       "      <td>New Zealand</td>\n",
       "      <td>NZL</td>\n",
       "      <td>MULTIPOLYGON (((176.88582 -40.06598, 176.50802...</td>\n",
       "      <td>9</td>\n",
       "      <td>7.286</td>\n",
       "      <td>1.250180</td>\n",
       "      <td>1.319670</td>\n",
       "      <td>0.908370</td>\n",
       "      <td>0.639380</td>\n",
       "      <td>0.429220</td>\n",
       "      <td>0.475010</td>\n",
       "      <td>2015</td>\n",
       "    </tr>\n",
       "    <tr>\n",
       "      <th>421</th>\n",
       "      <td>Europe</td>\n",
       "      <td>Sweden</td>\n",
       "      <td>SWE</td>\n",
       "      <td>POLYGON ((11.02737 58.85615, 11.46827 59.43239...</td>\n",
       "      <td>8</td>\n",
       "      <td>7.364</td>\n",
       "      <td>1.331710</td>\n",
       "      <td>1.289070</td>\n",
       "      <td>0.910870</td>\n",
       "      <td>0.659800</td>\n",
       "      <td>0.438440</td>\n",
       "      <td>0.362620</td>\n",
       "      <td>2015</td>\n",
       "    </tr>\n",
       "    <tr>\n",
       "      <th>521</th>\n",
       "      <td>Europe</td>\n",
       "      <td>Netherlands</td>\n",
       "      <td>NLD</td>\n",
       "      <td>POLYGON ((6.90514 53.48216, 7.09205 53.14404, ...</td>\n",
       "      <td>7</td>\n",
       "      <td>7.378</td>\n",
       "      <td>1.329440</td>\n",
       "      <td>1.280170</td>\n",
       "      <td>0.892840</td>\n",
       "      <td>0.615760</td>\n",
       "      <td>0.318140</td>\n",
       "      <td>0.476100</td>\n",
       "      <td>2015</td>\n",
       "    </tr>\n",
       "    <tr>\n",
       "      <th>610</th>\n",
       "      <td>Europe</td>\n",
       "      <td>Finland</td>\n",
       "      <td>FIN</td>\n",
       "      <td>POLYGON ((28.59193 69.06478, 28.44594 68.36461...</td>\n",
       "      <td>6</td>\n",
       "      <td>7.406</td>\n",
       "      <td>1.290250</td>\n",
       "      <td>1.318260</td>\n",
       "      <td>0.889110</td>\n",
       "      <td>0.641690</td>\n",
       "      <td>0.413720</td>\n",
       "      <td>0.233510</td>\n",
       "      <td>2015</td>\n",
       "    </tr>\n",
       "    <tr>\n",
       "      <th>5</th>\n",
       "      <td>North America</td>\n",
       "      <td>Canada</td>\n",
       "      <td>CAN</td>\n",
       "      <td>MULTIPOLYGON (((-122.84000 49.00000, -122.9742...</td>\n",
       "      <td>5</td>\n",
       "      <td>7.427</td>\n",
       "      <td>1.326290</td>\n",
       "      <td>1.322610</td>\n",
       "      <td>0.905630</td>\n",
       "      <td>0.632970</td>\n",
       "      <td>0.329570</td>\n",
       "      <td>0.458110</td>\n",
       "      <td>2015</td>\n",
       "    </tr>\n",
       "    <tr>\n",
       "      <th>68</th>\n",
       "      <td>Europe</td>\n",
       "      <td>Norway</td>\n",
       "      <td>-99</td>\n",
       "      <td>MULTIPOLYGON (((15.14282 79.67431, 15.52255 80...</td>\n",
       "      <td>4</td>\n",
       "      <td>7.522</td>\n",
       "      <td>1.459000</td>\n",
       "      <td>1.330950</td>\n",
       "      <td>0.885210</td>\n",
       "      <td>0.669730</td>\n",
       "      <td>0.365030</td>\n",
       "      <td>0.346990</td>\n",
       "      <td>2015</td>\n",
       "    </tr>\n",
       "    <tr>\n",
       "      <th>570</th>\n",
       "      <td>Europe</td>\n",
       "      <td>Denmark</td>\n",
       "      <td>DNK</td>\n",
       "      <td>MULTIPOLYGON (((9.92191 54.98310, 9.28205 54.8...</td>\n",
       "      <td>3</td>\n",
       "      <td>7.527</td>\n",
       "      <td>1.325480</td>\n",
       "      <td>1.360580</td>\n",
       "      <td>0.874640</td>\n",
       "      <td>0.649380</td>\n",
       "      <td>0.483570</td>\n",
       "      <td>0.341390</td>\n",
       "      <td>2015</td>\n",
       "    </tr>\n",
       "    <tr>\n",
       "      <th>580</th>\n",
       "      <td>Europe</td>\n",
       "      <td>Iceland</td>\n",
       "      <td>ISL</td>\n",
       "      <td>POLYGON ((-14.50870 66.45589, -14.73964 65.808...</td>\n",
       "      <td>2</td>\n",
       "      <td>7.561</td>\n",
       "      <td>1.302320</td>\n",
       "      <td>1.402230</td>\n",
       "      <td>0.947840</td>\n",
       "      <td>0.628770</td>\n",
       "      <td>0.141450</td>\n",
       "      <td>0.436300</td>\n",
       "      <td>2015</td>\n",
       "    </tr>\n",
       "    <tr>\n",
       "      <th>506</th>\n",
       "      <td>Europe</td>\n",
       "      <td>Switzerland</td>\n",
       "      <td>CHE</td>\n",
       "      <td>POLYGON ((9.59423 47.52506, 9.63293 47.34760, ...</td>\n",
       "      <td>1</td>\n",
       "      <td>7.587</td>\n",
       "      <td>1.396510</td>\n",
       "      <td>1.349510</td>\n",
       "      <td>0.941430</td>\n",
       "      <td>0.665570</td>\n",
       "      <td>0.419780</td>\n",
       "      <td>0.296780</td>\n",
       "      <td>2015</td>\n",
       "    </tr>\n",
       "    <tr>\n",
       "      <th>422</th>\n",
       "      <td>Europe</td>\n",
       "      <td>Sweden</td>\n",
       "      <td>SWE</td>\n",
       "      <td>POLYGON ((11.02737 58.85615, 11.46827 59.43239...</td>\n",
       "      <td>10</td>\n",
       "      <td>7.291</td>\n",
       "      <td>1.451810</td>\n",
       "      <td>1.087640</td>\n",
       "      <td>0.831210</td>\n",
       "      <td>0.582180</td>\n",
       "      <td>0.408670</td>\n",
       "      <td>0.382540</td>\n",
       "      <td>2016</td>\n",
       "    </tr>\n",
       "    <tr>\n",
       "      <th>547</th>\n",
       "      <td>Oceania</td>\n",
       "      <td>Australia</td>\n",
       "      <td>AUS</td>\n",
       "      <td>MULTIPOLYGON (((147.68926 -40.80826, 148.28907...</td>\n",
       "      <td>9</td>\n",
       "      <td>7.313</td>\n",
       "      <td>1.444430</td>\n",
       "      <td>1.104760</td>\n",
       "      <td>0.851200</td>\n",
       "      <td>0.568370</td>\n",
       "      <td>0.323310</td>\n",
       "      <td>0.474070</td>\n",
       "      <td>2016</td>\n",
       "    </tr>\n",
       "    <tr>\n",
       "      <th>542</th>\n",
       "      <td>Oceania</td>\n",
       "      <td>New Zealand</td>\n",
       "      <td>NZL</td>\n",
       "      <td>MULTIPOLYGON (((176.88582 -40.06598, 176.50802...</td>\n",
       "      <td>8</td>\n",
       "      <td>7.334</td>\n",
       "      <td>1.360660</td>\n",
       "      <td>1.172780</td>\n",
       "      <td>0.830960</td>\n",
       "      <td>0.581470</td>\n",
       "      <td>0.419040</td>\n",
       "      <td>0.494010</td>\n",
       "      <td>2016</td>\n",
       "    </tr>\n",
       "    <tr>\n",
       "      <th>522</th>\n",
       "      <td>Europe</td>\n",
       "      <td>Netherlands</td>\n",
       "      <td>NLD</td>\n",
       "      <td>POLYGON ((6.90514 53.48216, 7.09205 53.14404, ...</td>\n",
       "      <td>7</td>\n",
       "      <td>7.339</td>\n",
       "      <td>1.464680</td>\n",
       "      <td>1.029120</td>\n",
       "      <td>0.812310</td>\n",
       "      <td>0.552110</td>\n",
       "      <td>0.299270</td>\n",
       "      <td>0.474160</td>\n",
       "      <td>2016</td>\n",
       "    </tr>\n",
       "    <tr>\n",
       "      <th>6</th>\n",
       "      <td>North America</td>\n",
       "      <td>Canada</td>\n",
       "      <td>CAN</td>\n",
       "      <td>MULTIPOLYGON (((-122.84000 49.00000, -122.9742...</td>\n",
       "      <td>6</td>\n",
       "      <td>7.404</td>\n",
       "      <td>1.440150</td>\n",
       "      <td>1.096100</td>\n",
       "      <td>0.827600</td>\n",
       "      <td>0.573700</td>\n",
       "      <td>0.313290</td>\n",
       "      <td>0.448340</td>\n",
       "      <td>2016</td>\n",
       "    </tr>\n",
       "    <tr>\n",
       "      <th>611</th>\n",
       "      <td>Europe</td>\n",
       "      <td>Finland</td>\n",
       "      <td>FIN</td>\n",
       "      <td>POLYGON ((28.59193 69.06478, 28.44594 68.36461...</td>\n",
       "      <td>5</td>\n",
       "      <td>7.413</td>\n",
       "      <td>1.405980</td>\n",
       "      <td>1.134640</td>\n",
       "      <td>0.810910</td>\n",
       "      <td>0.571040</td>\n",
       "      <td>0.410040</td>\n",
       "      <td>0.254920</td>\n",
       "      <td>2016</td>\n",
       "    </tr>\n",
       "    <tr>\n",
       "      <th>69</th>\n",
       "      <td>Europe</td>\n",
       "      <td>Norway</td>\n",
       "      <td>-99</td>\n",
       "      <td>MULTIPOLYGON (((15.14282 79.67431, 15.52255 80...</td>\n",
       "      <td>4</td>\n",
       "      <td>7.498</td>\n",
       "      <td>1.577440</td>\n",
       "      <td>1.126900</td>\n",
       "      <td>0.795790</td>\n",
       "      <td>0.596090</td>\n",
       "      <td>0.357760</td>\n",
       "      <td>0.378950</td>\n",
       "      <td>2016</td>\n",
       "    </tr>\n",
       "    <tr>\n",
       "      <th>581</th>\n",
       "      <td>Europe</td>\n",
       "      <td>Iceland</td>\n",
       "      <td>ISL</td>\n",
       "      <td>POLYGON ((-14.50870 66.45589, -14.73964 65.808...</td>\n",
       "      <td>3</td>\n",
       "      <td>7.501</td>\n",
       "      <td>1.426660</td>\n",
       "      <td>1.183260</td>\n",
       "      <td>0.867330</td>\n",
       "      <td>0.566240</td>\n",
       "      <td>0.149750</td>\n",
       "      <td>0.476780</td>\n",
       "      <td>2016</td>\n",
       "    </tr>\n",
       "    <tr>\n",
       "      <th>507</th>\n",
       "      <td>Europe</td>\n",
       "      <td>Switzerland</td>\n",
       "      <td>CHE</td>\n",
       "      <td>POLYGON ((9.59423 47.52506, 9.63293 47.34760, ...</td>\n",
       "      <td>2</td>\n",
       "      <td>7.509</td>\n",
       "      <td>1.527330</td>\n",
       "      <td>1.145240</td>\n",
       "      <td>0.863030</td>\n",
       "      <td>0.585570</td>\n",
       "      <td>0.412030</td>\n",
       "      <td>0.280830</td>\n",
       "      <td>2016</td>\n",
       "    </tr>\n",
       "    <tr>\n",
       "      <th>571</th>\n",
       "      <td>Europe</td>\n",
       "      <td>Denmark</td>\n",
       "      <td>DNK</td>\n",
       "      <td>MULTIPOLYGON (((9.92191 54.98310, 9.28205 54.8...</td>\n",
       "      <td>1</td>\n",
       "      <td>7.526</td>\n",
       "      <td>1.441780</td>\n",
       "      <td>1.163740</td>\n",
       "      <td>0.795040</td>\n",
       "      <td>0.579410</td>\n",
       "      <td>0.444530</td>\n",
       "      <td>0.361710</td>\n",
       "      <td>2016</td>\n",
       "    </tr>\n",
       "    <tr>\n",
       "      <th>548</th>\n",
       "      <td>Oceania</td>\n",
       "      <td>Australia</td>\n",
       "      <td>AUS</td>\n",
       "      <td>MULTIPOLYGON (((147.68926 -40.80826, 148.28907...</td>\n",
       "      <td>10</td>\n",
       "      <td>7.284</td>\n",
       "      <td>1.484415</td>\n",
       "      <td>1.510042</td>\n",
       "      <td>0.843887</td>\n",
       "      <td>0.601607</td>\n",
       "      <td>0.301184</td>\n",
       "      <td>0.477699</td>\n",
       "      <td>2017</td>\n",
       "    </tr>\n",
       "    <tr>\n",
       "      <th>423</th>\n",
       "      <td>Europe</td>\n",
       "      <td>Sweden</td>\n",
       "      <td>SWE</td>\n",
       "      <td>POLYGON ((11.02737 58.85615, 11.46827 59.43239...</td>\n",
       "      <td>9</td>\n",
       "      <td>7.284</td>\n",
       "      <td>1.494387</td>\n",
       "      <td>1.478162</td>\n",
       "      <td>0.830875</td>\n",
       "      <td>0.612924</td>\n",
       "      <td>0.384399</td>\n",
       "      <td>0.385399</td>\n",
       "      <td>2017</td>\n",
       "    </tr>\n",
       "    <tr>\n",
       "      <th>543</th>\n",
       "      <td>Oceania</td>\n",
       "      <td>New Zealand</td>\n",
       "      <td>NZL</td>\n",
       "      <td>MULTIPOLYGON (((176.88582 -40.06598, 176.50802...</td>\n",
       "      <td>8</td>\n",
       "      <td>7.314</td>\n",
       "      <td>1.405706</td>\n",
       "      <td>1.548195</td>\n",
       "      <td>0.816760</td>\n",
       "      <td>0.614062</td>\n",
       "      <td>0.382817</td>\n",
       "      <td>0.500005</td>\n",
       "      <td>2017</td>\n",
       "    </tr>\n",
       "    <tr>\n",
       "      <th>7</th>\n",
       "      <td>North America</td>\n",
       "      <td>Canada</td>\n",
       "      <td>CAN</td>\n",
       "      <td>MULTIPOLYGON (((-122.84000 49.00000, -122.9742...</td>\n",
       "      <td>7</td>\n",
       "      <td>7.316</td>\n",
       "      <td>1.479204</td>\n",
       "      <td>1.481349</td>\n",
       "      <td>0.834558</td>\n",
       "      <td>0.611101</td>\n",
       "      <td>0.287372</td>\n",
       "      <td>0.435540</td>\n",
       "      <td>2017</td>\n",
       "    </tr>\n",
       "    <tr>\n",
       "      <th>523</th>\n",
       "      <td>Europe</td>\n",
       "      <td>Netherlands</td>\n",
       "      <td>NLD</td>\n",
       "      <td>POLYGON ((6.90514 53.48216, 7.09205 53.14404, ...</td>\n",
       "      <td>6</td>\n",
       "      <td>7.377</td>\n",
       "      <td>1.503945</td>\n",
       "      <td>1.428939</td>\n",
       "      <td>0.810696</td>\n",
       "      <td>0.585384</td>\n",
       "      <td>0.282662</td>\n",
       "      <td>0.470490</td>\n",
       "      <td>2017</td>\n",
       "    </tr>\n",
       "    <tr>\n",
       "      <th>612</th>\n",
       "      <td>Europe</td>\n",
       "      <td>Finland</td>\n",
       "      <td>FIN</td>\n",
       "      <td>POLYGON ((28.59193 69.06478, 28.44594 68.36461...</td>\n",
       "      <td>5</td>\n",
       "      <td>7.469</td>\n",
       "      <td>1.443572</td>\n",
       "      <td>1.540247</td>\n",
       "      <td>0.809158</td>\n",
       "      <td>0.617951</td>\n",
       "      <td>0.382612</td>\n",
       "      <td>0.245483</td>\n",
       "      <td>2017</td>\n",
       "    </tr>\n",
       "    <tr>\n",
       "      <th>508</th>\n",
       "      <td>Europe</td>\n",
       "      <td>Switzerland</td>\n",
       "      <td>CHE</td>\n",
       "      <td>POLYGON ((9.59423 47.52506, 9.63293 47.34760, ...</td>\n",
       "      <td>4</td>\n",
       "      <td>7.494</td>\n",
       "      <td>1.564980</td>\n",
       "      <td>1.516912</td>\n",
       "      <td>0.858131</td>\n",
       "      <td>0.620071</td>\n",
       "      <td>0.367007</td>\n",
       "      <td>0.290549</td>\n",
       "      <td>2017</td>\n",
       "    </tr>\n",
       "    <tr>\n",
       "      <th>582</th>\n",
       "      <td>Europe</td>\n",
       "      <td>Iceland</td>\n",
       "      <td>ISL</td>\n",
       "      <td>POLYGON ((-14.50870 66.45589, -14.73964 65.808...</td>\n",
       "      <td>3</td>\n",
       "      <td>7.504</td>\n",
       "      <td>1.480633</td>\n",
       "      <td>1.610574</td>\n",
       "      <td>0.833552</td>\n",
       "      <td>0.627163</td>\n",
       "      <td>0.153527</td>\n",
       "      <td>0.475540</td>\n",
       "      <td>2017</td>\n",
       "    </tr>\n",
       "    <tr>\n",
       "      <th>572</th>\n",
       "      <td>Europe</td>\n",
       "      <td>Denmark</td>\n",
       "      <td>DNK</td>\n",
       "      <td>MULTIPOLYGON (((9.92191 54.98310, 9.28205 54.8...</td>\n",
       "      <td>2</td>\n",
       "      <td>7.522</td>\n",
       "      <td>1.482383</td>\n",
       "      <td>1.551122</td>\n",
       "      <td>0.792566</td>\n",
       "      <td>0.626007</td>\n",
       "      <td>0.400770</td>\n",
       "      <td>0.355280</td>\n",
       "      <td>2017</td>\n",
       "    </tr>\n",
       "    <tr>\n",
       "      <th>70</th>\n",
       "      <td>Europe</td>\n",
       "      <td>Norway</td>\n",
       "      <td>-99</td>\n",
       "      <td>MULTIPOLYGON (((15.14282 79.67431, 15.52255 80...</td>\n",
       "      <td>1</td>\n",
       "      <td>7.537</td>\n",
       "      <td>1.616463</td>\n",
       "      <td>1.533524</td>\n",
       "      <td>0.796667</td>\n",
       "      <td>0.635423</td>\n",
       "      <td>0.315964</td>\n",
       "      <td>0.362012</td>\n",
       "      <td>2017</td>\n",
       "    </tr>\n",
       "    <tr>\n",
       "      <th>549</th>\n",
       "      <td>Oceania</td>\n",
       "      <td>Australia</td>\n",
       "      <td>AUS</td>\n",
       "      <td>MULTIPOLYGON (((147.68926 -40.80826, 148.28907...</td>\n",
       "      <td>10</td>\n",
       "      <td>7.272</td>\n",
       "      <td>1.340000</td>\n",
       "      <td>1.573000</td>\n",
       "      <td>0.910000</td>\n",
       "      <td>0.647000</td>\n",
       "      <td>0.302000</td>\n",
       "      <td>0.361000</td>\n",
       "      <td>2018</td>\n",
       "    </tr>\n",
       "    <tr>\n",
       "      <th>424</th>\n",
       "      <td>Europe</td>\n",
       "      <td>Sweden</td>\n",
       "      <td>SWE</td>\n",
       "      <td>POLYGON ((11.02737 58.85615, 11.46827 59.43239...</td>\n",
       "      <td>9</td>\n",
       "      <td>7.314</td>\n",
       "      <td>1.355000</td>\n",
       "      <td>1.501000</td>\n",
       "      <td>0.913000</td>\n",
       "      <td>0.659000</td>\n",
       "      <td>0.383000</td>\n",
       "      <td>0.285000</td>\n",
       "      <td>2018</td>\n",
       "    </tr>\n",
       "    <tr>\n",
       "      <th>544</th>\n",
       "      <td>Oceania</td>\n",
       "      <td>New Zealand</td>\n",
       "      <td>NZL</td>\n",
       "      <td>MULTIPOLYGON (((176.88582 -40.06598, 176.50802...</td>\n",
       "      <td>8</td>\n",
       "      <td>7.324</td>\n",
       "      <td>1.268000</td>\n",
       "      <td>1.601000</td>\n",
       "      <td>0.876000</td>\n",
       "      <td>0.669000</td>\n",
       "      <td>0.389000</td>\n",
       "      <td>0.365000</td>\n",
       "      <td>2018</td>\n",
       "    </tr>\n",
       "    <tr>\n",
       "      <th>8</th>\n",
       "      <td>North America</td>\n",
       "      <td>Canada</td>\n",
       "      <td>CAN</td>\n",
       "      <td>MULTIPOLYGON (((-122.84000 49.00000, -122.9742...</td>\n",
       "      <td>7</td>\n",
       "      <td>7.328</td>\n",
       "      <td>1.330000</td>\n",
       "      <td>1.532000</td>\n",
       "      <td>0.896000</td>\n",
       "      <td>0.653000</td>\n",
       "      <td>0.291000</td>\n",
       "      <td>0.321000</td>\n",
       "      <td>2018</td>\n",
       "    </tr>\n",
       "    <tr>\n",
       "      <th>524</th>\n",
       "      <td>Europe</td>\n",
       "      <td>Netherlands</td>\n",
       "      <td>NLD</td>\n",
       "      <td>POLYGON ((6.90514 53.48216, 7.09205 53.14404, ...</td>\n",
       "      <td>6</td>\n",
       "      <td>7.441</td>\n",
       "      <td>1.361000</td>\n",
       "      <td>1.488000</td>\n",
       "      <td>0.878000</td>\n",
       "      <td>0.638000</td>\n",
       "      <td>0.295000</td>\n",
       "      <td>0.333000</td>\n",
       "      <td>2018</td>\n",
       "    </tr>\n",
       "    <tr>\n",
       "      <th>509</th>\n",
       "      <td>Europe</td>\n",
       "      <td>Switzerland</td>\n",
       "      <td>CHE</td>\n",
       "      <td>POLYGON ((9.59423 47.52506, 9.63293 47.34760, ...</td>\n",
       "      <td>5</td>\n",
       "      <td>7.487</td>\n",
       "      <td>1.420000</td>\n",
       "      <td>1.549000</td>\n",
       "      <td>0.927000</td>\n",
       "      <td>0.660000</td>\n",
       "      <td>0.357000</td>\n",
       "      <td>0.256000</td>\n",
       "      <td>2018</td>\n",
       "    </tr>\n",
       "    <tr>\n",
       "      <th>583</th>\n",
       "      <td>Europe</td>\n",
       "      <td>Iceland</td>\n",
       "      <td>ISL</td>\n",
       "      <td>POLYGON ((-14.50870 66.45589, -14.73964 65.808...</td>\n",
       "      <td>4</td>\n",
       "      <td>7.495</td>\n",
       "      <td>1.343000</td>\n",
       "      <td>1.644000</td>\n",
       "      <td>0.914000</td>\n",
       "      <td>0.677000</td>\n",
       "      <td>0.138000</td>\n",
       "      <td>0.353000</td>\n",
       "      <td>2018</td>\n",
       "    </tr>\n",
       "    <tr>\n",
       "      <th>573</th>\n",
       "      <td>Europe</td>\n",
       "      <td>Denmark</td>\n",
       "      <td>DNK</td>\n",
       "      <td>MULTIPOLYGON (((9.92191 54.98310, 9.28205 54.8...</td>\n",
       "      <td>3</td>\n",
       "      <td>7.555</td>\n",
       "      <td>1.351000</td>\n",
       "      <td>1.590000</td>\n",
       "      <td>0.868000</td>\n",
       "      <td>0.683000</td>\n",
       "      <td>0.408000</td>\n",
       "      <td>0.284000</td>\n",
       "      <td>2018</td>\n",
       "    </tr>\n",
       "    <tr>\n",
       "      <th>71</th>\n",
       "      <td>Europe</td>\n",
       "      <td>Norway</td>\n",
       "      <td>-99</td>\n",
       "      <td>MULTIPOLYGON (((15.14282 79.67431, 15.52255 80...</td>\n",
       "      <td>2</td>\n",
       "      <td>7.594</td>\n",
       "      <td>1.456000</td>\n",
       "      <td>1.582000</td>\n",
       "      <td>0.861000</td>\n",
       "      <td>0.686000</td>\n",
       "      <td>0.340000</td>\n",
       "      <td>0.286000</td>\n",
       "      <td>2018</td>\n",
       "    </tr>\n",
       "    <tr>\n",
       "      <th>613</th>\n",
       "      <td>Europe</td>\n",
       "      <td>Finland</td>\n",
       "      <td>FIN</td>\n",
       "      <td>POLYGON ((28.59193 69.06478, 28.44594 68.36461...</td>\n",
       "      <td>1</td>\n",
       "      <td>7.632</td>\n",
       "      <td>1.305000</td>\n",
       "      <td>1.592000</td>\n",
       "      <td>0.874000</td>\n",
       "      <td>0.681000</td>\n",
       "      <td>0.393000</td>\n",
       "      <td>0.202000</td>\n",
       "      <td>2018</td>\n",
       "    </tr>\n",
       "    <tr>\n",
       "      <th>445</th>\n",
       "      <td>Europe</td>\n",
       "      <td>Austria</td>\n",
       "      <td>AUT</td>\n",
       "      <td>POLYGON ((16.97967 48.12350, 16.90375 47.71487...</td>\n",
       "      <td>10</td>\n",
       "      <td>7.246</td>\n",
       "      <td>1.376000</td>\n",
       "      <td>1.475000</td>\n",
       "      <td>1.016000</td>\n",
       "      <td>0.532000</td>\n",
       "      <td>0.226000</td>\n",
       "      <td>0.244000</td>\n",
       "      <td>2019</td>\n",
       "    </tr>\n",
       "    <tr>\n",
       "      <th>9</th>\n",
       "      <td>North America</td>\n",
       "      <td>Canada</td>\n",
       "      <td>CAN</td>\n",
       "      <td>MULTIPOLYGON (((-122.84000 49.00000, -122.9742...</td>\n",
       "      <td>9</td>\n",
       "      <td>7.278</td>\n",
       "      <td>1.365000</td>\n",
       "      <td>1.505000</td>\n",
       "      <td>1.039000</td>\n",
       "      <td>0.584000</td>\n",
       "      <td>0.308000</td>\n",
       "      <td>0.285000</td>\n",
       "      <td>2019</td>\n",
       "    </tr>\n",
       "    <tr>\n",
       "      <th>545</th>\n",
       "      <td>Oceania</td>\n",
       "      <td>New Zealand</td>\n",
       "      <td>NZL</td>\n",
       "      <td>MULTIPOLYGON (((176.88582 -40.06598, 176.50802...</td>\n",
       "      <td>8</td>\n",
       "      <td>7.307</td>\n",
       "      <td>1.303000</td>\n",
       "      <td>1.557000</td>\n",
       "      <td>1.026000</td>\n",
       "      <td>0.585000</td>\n",
       "      <td>0.380000</td>\n",
       "      <td>0.330000</td>\n",
       "      <td>2019</td>\n",
       "    </tr>\n",
       "    <tr>\n",
       "      <th>425</th>\n",
       "      <td>Europe</td>\n",
       "      <td>Sweden</td>\n",
       "      <td>SWE</td>\n",
       "      <td>POLYGON ((11.02737 58.85615, 11.46827 59.43239...</td>\n",
       "      <td>7</td>\n",
       "      <td>7.343</td>\n",
       "      <td>1.387000</td>\n",
       "      <td>1.487000</td>\n",
       "      <td>1.009000</td>\n",
       "      <td>0.574000</td>\n",
       "      <td>0.373000</td>\n",
       "      <td>0.267000</td>\n",
       "      <td>2019</td>\n",
       "    </tr>\n",
       "    <tr>\n",
       "      <th>510</th>\n",
       "      <td>Europe</td>\n",
       "      <td>Switzerland</td>\n",
       "      <td>CHE</td>\n",
       "      <td>POLYGON ((9.59423 47.52506, 9.63293 47.34760, ...</td>\n",
       "      <td>6</td>\n",
       "      <td>7.480</td>\n",
       "      <td>1.452000</td>\n",
       "      <td>1.526000</td>\n",
       "      <td>1.052000</td>\n",
       "      <td>0.572000</td>\n",
       "      <td>0.343000</td>\n",
       "      <td>0.263000</td>\n",
       "      <td>2019</td>\n",
       "    </tr>\n",
       "    <tr>\n",
       "      <th>525</th>\n",
       "      <td>Europe</td>\n",
       "      <td>Netherlands</td>\n",
       "      <td>NLD</td>\n",
       "      <td>POLYGON ((6.90514 53.48216, 7.09205 53.14404, ...</td>\n",
       "      <td>5</td>\n",
       "      <td>7.488</td>\n",
       "      <td>1.396000</td>\n",
       "      <td>1.522000</td>\n",
       "      <td>0.999000</td>\n",
       "      <td>0.557000</td>\n",
       "      <td>0.298000</td>\n",
       "      <td>0.322000</td>\n",
       "      <td>2019</td>\n",
       "    </tr>\n",
       "    <tr>\n",
       "      <th>584</th>\n",
       "      <td>Europe</td>\n",
       "      <td>Iceland</td>\n",
       "      <td>ISL</td>\n",
       "      <td>POLYGON ((-14.50870 66.45589, -14.73964 65.808...</td>\n",
       "      <td>4</td>\n",
       "      <td>7.494</td>\n",
       "      <td>1.380000</td>\n",
       "      <td>1.624000</td>\n",
       "      <td>1.026000</td>\n",
       "      <td>0.591000</td>\n",
       "      <td>0.118000</td>\n",
       "      <td>0.354000</td>\n",
       "      <td>2019</td>\n",
       "    </tr>\n",
       "    <tr>\n",
       "      <th>72</th>\n",
       "      <td>Europe</td>\n",
       "      <td>Norway</td>\n",
       "      <td>-99</td>\n",
       "      <td>MULTIPOLYGON (((15.14282 79.67431, 15.52255 80...</td>\n",
       "      <td>3</td>\n",
       "      <td>7.554</td>\n",
       "      <td>1.488000</td>\n",
       "      <td>1.582000</td>\n",
       "      <td>1.028000</td>\n",
       "      <td>0.603000</td>\n",
       "      <td>0.341000</td>\n",
       "      <td>0.271000</td>\n",
       "      <td>2019</td>\n",
       "    </tr>\n",
       "    <tr>\n",
       "      <th>574</th>\n",
       "      <td>Europe</td>\n",
       "      <td>Denmark</td>\n",
       "      <td>DNK</td>\n",
       "      <td>MULTIPOLYGON (((9.92191 54.98310, 9.28205 54.8...</td>\n",
       "      <td>2</td>\n",
       "      <td>7.600</td>\n",
       "      <td>1.383000</td>\n",
       "      <td>1.573000</td>\n",
       "      <td>0.996000</td>\n",
       "      <td>0.592000</td>\n",
       "      <td>0.410000</td>\n",
       "      <td>0.252000</td>\n",
       "      <td>2019</td>\n",
       "    </tr>\n",
       "    <tr>\n",
       "      <th>614</th>\n",
       "      <td>Europe</td>\n",
       "      <td>Finland</td>\n",
       "      <td>FIN</td>\n",
       "      <td>POLYGON ((28.59193 69.06478, 28.44594 68.36461...</td>\n",
       "      <td>1</td>\n",
       "      <td>7.769</td>\n",
       "      <td>1.340000</td>\n",
       "      <td>1.587000</td>\n",
       "      <td>0.986000</td>\n",
       "      <td>0.596000</td>\n",
       "      <td>0.393000</td>\n",
       "      <td>0.153000</td>\n",
       "      <td>2019</td>\n",
       "    </tr>\n",
       "  </tbody>\n",
       "</table>\n",
       "</div>"
      ],
      "text/plain": [
       "         Continent      Country Country_Code  \\\n",
       "546        Oceania    Australia          AUS   \n",
       "541        Oceania  New Zealand          NZL   \n",
       "421         Europe       Sweden          SWE   \n",
       "521         Europe  Netherlands          NLD   \n",
       "610         Europe      Finland          FIN   \n",
       "5    North America       Canada          CAN   \n",
       "68          Europe       Norway          -99   \n",
       "570         Europe      Denmark          DNK   \n",
       "580         Europe      Iceland          ISL   \n",
       "506         Europe  Switzerland          CHE   \n",
       "422         Europe       Sweden          SWE   \n",
       "547        Oceania    Australia          AUS   \n",
       "542        Oceania  New Zealand          NZL   \n",
       "522         Europe  Netherlands          NLD   \n",
       "6    North America       Canada          CAN   \n",
       "611         Europe      Finland          FIN   \n",
       "69          Europe       Norway          -99   \n",
       "581         Europe      Iceland          ISL   \n",
       "507         Europe  Switzerland          CHE   \n",
       "571         Europe      Denmark          DNK   \n",
       "548        Oceania    Australia          AUS   \n",
       "423         Europe       Sweden          SWE   \n",
       "543        Oceania  New Zealand          NZL   \n",
       "7    North America       Canada          CAN   \n",
       "523         Europe  Netherlands          NLD   \n",
       "612         Europe      Finland          FIN   \n",
       "508         Europe  Switzerland          CHE   \n",
       "582         Europe      Iceland          ISL   \n",
       "572         Europe      Denmark          DNK   \n",
       "70          Europe       Norway          -99   \n",
       "549        Oceania    Australia          AUS   \n",
       "424         Europe       Sweden          SWE   \n",
       "544        Oceania  New Zealand          NZL   \n",
       "8    North America       Canada          CAN   \n",
       "524         Europe  Netherlands          NLD   \n",
       "509         Europe  Switzerland          CHE   \n",
       "583         Europe      Iceland          ISL   \n",
       "573         Europe      Denmark          DNK   \n",
       "71          Europe       Norway          -99   \n",
       "613         Europe      Finland          FIN   \n",
       "445         Europe      Austria          AUT   \n",
       "9    North America       Canada          CAN   \n",
       "545        Oceania  New Zealand          NZL   \n",
       "425         Europe       Sweden          SWE   \n",
       "510         Europe  Switzerland          CHE   \n",
       "525         Europe  Netherlands          NLD   \n",
       "584         Europe      Iceland          ISL   \n",
       "72          Europe       Norway          -99   \n",
       "574         Europe      Denmark          DNK   \n",
       "614         Europe      Finland          FIN   \n",
       "\n",
       "                                              geometry  Happiness Rank  \\\n",
       "546  MULTIPOLYGON (((147.68926 -40.80826, 148.28907...              10   \n",
       "541  MULTIPOLYGON (((176.88582 -40.06598, 176.50802...               9   \n",
       "421  POLYGON ((11.02737 58.85615, 11.46827 59.43239...               8   \n",
       "521  POLYGON ((6.90514 53.48216, 7.09205 53.14404, ...               7   \n",
       "610  POLYGON ((28.59193 69.06478, 28.44594 68.36461...               6   \n",
       "5    MULTIPOLYGON (((-122.84000 49.00000, -122.9742...               5   \n",
       "68   MULTIPOLYGON (((15.14282 79.67431, 15.52255 80...               4   \n",
       "570  MULTIPOLYGON (((9.92191 54.98310, 9.28205 54.8...               3   \n",
       "580  POLYGON ((-14.50870 66.45589, -14.73964 65.808...               2   \n",
       "506  POLYGON ((9.59423 47.52506, 9.63293 47.34760, ...               1   \n",
       "422  POLYGON ((11.02737 58.85615, 11.46827 59.43239...              10   \n",
       "547  MULTIPOLYGON (((147.68926 -40.80826, 148.28907...               9   \n",
       "542  MULTIPOLYGON (((176.88582 -40.06598, 176.50802...               8   \n",
       "522  POLYGON ((6.90514 53.48216, 7.09205 53.14404, ...               7   \n",
       "6    MULTIPOLYGON (((-122.84000 49.00000, -122.9742...               6   \n",
       "611  POLYGON ((28.59193 69.06478, 28.44594 68.36461...               5   \n",
       "69   MULTIPOLYGON (((15.14282 79.67431, 15.52255 80...               4   \n",
       "581  POLYGON ((-14.50870 66.45589, -14.73964 65.808...               3   \n",
       "507  POLYGON ((9.59423 47.52506, 9.63293 47.34760, ...               2   \n",
       "571  MULTIPOLYGON (((9.92191 54.98310, 9.28205 54.8...               1   \n",
       "548  MULTIPOLYGON (((147.68926 -40.80826, 148.28907...              10   \n",
       "423  POLYGON ((11.02737 58.85615, 11.46827 59.43239...               9   \n",
       "543  MULTIPOLYGON (((176.88582 -40.06598, 176.50802...               8   \n",
       "7    MULTIPOLYGON (((-122.84000 49.00000, -122.9742...               7   \n",
       "523  POLYGON ((6.90514 53.48216, 7.09205 53.14404, ...               6   \n",
       "612  POLYGON ((28.59193 69.06478, 28.44594 68.36461...               5   \n",
       "508  POLYGON ((9.59423 47.52506, 9.63293 47.34760, ...               4   \n",
       "582  POLYGON ((-14.50870 66.45589, -14.73964 65.808...               3   \n",
       "572  MULTIPOLYGON (((9.92191 54.98310, 9.28205 54.8...               2   \n",
       "70   MULTIPOLYGON (((15.14282 79.67431, 15.52255 80...               1   \n",
       "549  MULTIPOLYGON (((147.68926 -40.80826, 148.28907...              10   \n",
       "424  POLYGON ((11.02737 58.85615, 11.46827 59.43239...               9   \n",
       "544  MULTIPOLYGON (((176.88582 -40.06598, 176.50802...               8   \n",
       "8    MULTIPOLYGON (((-122.84000 49.00000, -122.9742...               7   \n",
       "524  POLYGON ((6.90514 53.48216, 7.09205 53.14404, ...               6   \n",
       "509  POLYGON ((9.59423 47.52506, 9.63293 47.34760, ...               5   \n",
       "583  POLYGON ((-14.50870 66.45589, -14.73964 65.808...               4   \n",
       "573  MULTIPOLYGON (((9.92191 54.98310, 9.28205 54.8...               3   \n",
       "71   MULTIPOLYGON (((15.14282 79.67431, 15.52255 80...               2   \n",
       "613  POLYGON ((28.59193 69.06478, 28.44594 68.36461...               1   \n",
       "445  POLYGON ((16.97967 48.12350, 16.90375 47.71487...              10   \n",
       "9    MULTIPOLYGON (((-122.84000 49.00000, -122.9742...               9   \n",
       "545  MULTIPOLYGON (((176.88582 -40.06598, 176.50802...               8   \n",
       "425  POLYGON ((11.02737 58.85615, 11.46827 59.43239...               7   \n",
       "510  POLYGON ((9.59423 47.52506, 9.63293 47.34760, ...               6   \n",
       "525  POLYGON ((6.90514 53.48216, 7.09205 53.14404, ...               5   \n",
       "584  POLYGON ((-14.50870 66.45589, -14.73964 65.808...               4   \n",
       "72   MULTIPOLYGON (((15.14282 79.67431, 15.52255 80...               3   \n",
       "574  MULTIPOLYGON (((9.92191 54.98310, 9.28205 54.8...               2   \n",
       "614  POLYGON ((28.59193 69.06478, 28.44594 68.36461...               1   \n",
       "\n",
       "     Happiness Score  Economy (GDP per Capita)    Family  \\\n",
       "546            7.284                  1.333580  1.309230   \n",
       "541            7.286                  1.250180  1.319670   \n",
       "421            7.364                  1.331710  1.289070   \n",
       "521            7.378                  1.329440  1.280170   \n",
       "610            7.406                  1.290250  1.318260   \n",
       "5              7.427                  1.326290  1.322610   \n",
       "68             7.522                  1.459000  1.330950   \n",
       "570            7.527                  1.325480  1.360580   \n",
       "580            7.561                  1.302320  1.402230   \n",
       "506            7.587                  1.396510  1.349510   \n",
       "422            7.291                  1.451810  1.087640   \n",
       "547            7.313                  1.444430  1.104760   \n",
       "542            7.334                  1.360660  1.172780   \n",
       "522            7.339                  1.464680  1.029120   \n",
       "6              7.404                  1.440150  1.096100   \n",
       "611            7.413                  1.405980  1.134640   \n",
       "69             7.498                  1.577440  1.126900   \n",
       "581            7.501                  1.426660  1.183260   \n",
       "507            7.509                  1.527330  1.145240   \n",
       "571            7.526                  1.441780  1.163740   \n",
       "548            7.284                  1.484415  1.510042   \n",
       "423            7.284                  1.494387  1.478162   \n",
       "543            7.314                  1.405706  1.548195   \n",
       "7              7.316                  1.479204  1.481349   \n",
       "523            7.377                  1.503945  1.428939   \n",
       "612            7.469                  1.443572  1.540247   \n",
       "508            7.494                  1.564980  1.516912   \n",
       "582            7.504                  1.480633  1.610574   \n",
       "572            7.522                  1.482383  1.551122   \n",
       "70             7.537                  1.616463  1.533524   \n",
       "549            7.272                  1.340000  1.573000   \n",
       "424            7.314                  1.355000  1.501000   \n",
       "544            7.324                  1.268000  1.601000   \n",
       "8              7.328                  1.330000  1.532000   \n",
       "524            7.441                  1.361000  1.488000   \n",
       "509            7.487                  1.420000  1.549000   \n",
       "583            7.495                  1.343000  1.644000   \n",
       "573            7.555                  1.351000  1.590000   \n",
       "71             7.594                  1.456000  1.582000   \n",
       "613            7.632                  1.305000  1.592000   \n",
       "445            7.246                  1.376000  1.475000   \n",
       "9              7.278                  1.365000  1.505000   \n",
       "545            7.307                  1.303000  1.557000   \n",
       "425            7.343                  1.387000  1.487000   \n",
       "510            7.480                  1.452000  1.526000   \n",
       "525            7.488                  1.396000  1.522000   \n",
       "584            7.494                  1.380000  1.624000   \n",
       "72             7.554                  1.488000  1.582000   \n",
       "574            7.600                  1.383000  1.573000   \n",
       "614            7.769                  1.340000  1.587000   \n",
       "\n",
       "     Health (Life Expectancy)   Freedom  Trust (Government Corruption)  \\\n",
       "546                  0.931560  0.651240                       0.356370   \n",
       "541                  0.908370  0.639380                       0.429220   \n",
       "421                  0.910870  0.659800                       0.438440   \n",
       "521                  0.892840  0.615760                       0.318140   \n",
       "610                  0.889110  0.641690                       0.413720   \n",
       "5                    0.905630  0.632970                       0.329570   \n",
       "68                   0.885210  0.669730                       0.365030   \n",
       "570                  0.874640  0.649380                       0.483570   \n",
       "580                  0.947840  0.628770                       0.141450   \n",
       "506                  0.941430  0.665570                       0.419780   \n",
       "422                  0.831210  0.582180                       0.408670   \n",
       "547                  0.851200  0.568370                       0.323310   \n",
       "542                  0.830960  0.581470                       0.419040   \n",
       "522                  0.812310  0.552110                       0.299270   \n",
       "6                    0.827600  0.573700                       0.313290   \n",
       "611                  0.810910  0.571040                       0.410040   \n",
       "69                   0.795790  0.596090                       0.357760   \n",
       "581                  0.867330  0.566240                       0.149750   \n",
       "507                  0.863030  0.585570                       0.412030   \n",
       "571                  0.795040  0.579410                       0.444530   \n",
       "548                  0.843887  0.601607                       0.301184   \n",
       "423                  0.830875  0.612924                       0.384399   \n",
       "543                  0.816760  0.614062                       0.382817   \n",
       "7                    0.834558  0.611101                       0.287372   \n",
       "523                  0.810696  0.585384                       0.282662   \n",
       "612                  0.809158  0.617951                       0.382612   \n",
       "508                  0.858131  0.620071                       0.367007   \n",
       "582                  0.833552  0.627163                       0.153527   \n",
       "572                  0.792566  0.626007                       0.400770   \n",
       "70                   0.796667  0.635423                       0.315964   \n",
       "549                  0.910000  0.647000                       0.302000   \n",
       "424                  0.913000  0.659000                       0.383000   \n",
       "544                  0.876000  0.669000                       0.389000   \n",
       "8                    0.896000  0.653000                       0.291000   \n",
       "524                  0.878000  0.638000                       0.295000   \n",
       "509                  0.927000  0.660000                       0.357000   \n",
       "583                  0.914000  0.677000                       0.138000   \n",
       "573                  0.868000  0.683000                       0.408000   \n",
       "71                   0.861000  0.686000                       0.340000   \n",
       "613                  0.874000  0.681000                       0.393000   \n",
       "445                  1.016000  0.532000                       0.226000   \n",
       "9                    1.039000  0.584000                       0.308000   \n",
       "545                  1.026000  0.585000                       0.380000   \n",
       "425                  1.009000  0.574000                       0.373000   \n",
       "510                  1.052000  0.572000                       0.343000   \n",
       "525                  0.999000  0.557000                       0.298000   \n",
       "584                  1.026000  0.591000                       0.118000   \n",
       "72                   1.028000  0.603000                       0.341000   \n",
       "574                  0.996000  0.592000                       0.410000   \n",
       "614                  0.986000  0.596000                       0.393000   \n",
       "\n",
       "     Generosity  year  \n",
       "546    0.435620  2015  \n",
       "541    0.475010  2015  \n",
       "421    0.362620  2015  \n",
       "521    0.476100  2015  \n",
       "610    0.233510  2015  \n",
       "5      0.458110  2015  \n",
       "68     0.346990  2015  \n",
       "570    0.341390  2015  \n",
       "580    0.436300  2015  \n",
       "506    0.296780  2015  \n",
       "422    0.382540  2016  \n",
       "547    0.474070  2016  \n",
       "542    0.494010  2016  \n",
       "522    0.474160  2016  \n",
       "6      0.448340  2016  \n",
       "611    0.254920  2016  \n",
       "69     0.378950  2016  \n",
       "581    0.476780  2016  \n",
       "507    0.280830  2016  \n",
       "571    0.361710  2016  \n",
       "548    0.477699  2017  \n",
       "423    0.385399  2017  \n",
       "543    0.500005  2017  \n",
       "7      0.435540  2017  \n",
       "523    0.470490  2017  \n",
       "612    0.245483  2017  \n",
       "508    0.290549  2017  \n",
       "582    0.475540  2017  \n",
       "572    0.355280  2017  \n",
       "70     0.362012  2017  \n",
       "549    0.361000  2018  \n",
       "424    0.285000  2018  \n",
       "544    0.365000  2018  \n",
       "8      0.321000  2018  \n",
       "524    0.333000  2018  \n",
       "509    0.256000  2018  \n",
       "583    0.353000  2018  \n",
       "573    0.284000  2018  \n",
       "71     0.286000  2018  \n",
       "613    0.202000  2018  \n",
       "445    0.244000  2019  \n",
       "9      0.285000  2019  \n",
       "545    0.330000  2019  \n",
       "425    0.267000  2019  \n",
       "510    0.263000  2019  \n",
       "525    0.322000  2019  \n",
       "584    0.354000  2019  \n",
       "72     0.271000  2019  \n",
       "574    0.252000  2019  \n",
       "614    0.153000  2019  "
      ]
     },
     "execution_count": 41,
     "metadata": {},
     "output_type": "execute_result"
    }
   ],
   "source": [
    "#List of top ten happiest countries fo9r each year\n",
    "rslt_df"
   ]
  },
  {
   "cell_type": "code",
   "execution_count": 66,
   "id": "1fc917b3",
   "metadata": {},
   "outputs": [
    {
     "data": {
      "application/vnd.plotly.v1+json": {
       "config": {
        "plotlyServerURL": "https://plot.ly"
       },
       "data": [
        {
         "alignmentgroup": "True",
         "hovertemplate": "year=2015<br>Happiness Score=%{marker.color}<br>Country=%{y}<extra></extra>",
         "legendgroup": "",
         "marker": {
          "color": [
           7.284,
           7.286,
           7.364,
           7.378,
           7.406,
           7.427,
           7.522,
           7.527,
           7.561,
           7.587
          ],
          "coloraxis": "coloraxis",
          "pattern": {
           "shape": ""
          }
         },
         "name": "",
         "offsetgroup": "",
         "orientation": "h",
         "showlegend": false,
         "textposition": "auto",
         "type": "bar",
         "x": [
          7.284,
          7.286,
          7.364,
          7.378,
          7.406,
          7.427,
          7.522,
          7.527,
          7.561,
          7.587
         ],
         "xaxis": "x",
         "y": [
          "Australia",
          "New Zealand",
          "Sweden",
          "Netherlands",
          "Finland",
          "Canada",
          "Norway",
          "Denmark",
          "Iceland",
          "Switzerland"
         ],
         "yaxis": "y"
        }
       ],
       "frames": [
        {
         "data": [
          {
           "alignmentgroup": "True",
           "hovertemplate": "year=2015<br>Happiness Score=%{marker.color}<br>Country=%{y}<extra></extra>",
           "legendgroup": "",
           "marker": {
            "color": [
             7.284,
             7.286,
             7.364,
             7.378,
             7.406,
             7.427,
             7.522,
             7.527,
             7.561,
             7.587
            ],
            "coloraxis": "coloraxis",
            "pattern": {
             "shape": ""
            }
           },
           "name": "",
           "offsetgroup": "",
           "orientation": "h",
           "showlegend": false,
           "textposition": "auto",
           "type": "bar",
           "x": [
            7.284,
            7.286,
            7.364,
            7.378,
            7.406,
            7.427,
            7.522,
            7.527,
            7.561,
            7.587
           ],
           "xaxis": "x",
           "y": [
            "Australia",
            "New Zealand",
            "Sweden",
            "Netherlands",
            "Finland",
            "Canada",
            "Norway",
            "Denmark",
            "Iceland",
            "Switzerland"
           ],
           "yaxis": "y"
          }
         ],
         "name": "2015"
        },
        {
         "data": [
          {
           "alignmentgroup": "True",
           "hovertemplate": "year=2016<br>Happiness Score=%{marker.color}<br>Country=%{y}<extra></extra>",
           "legendgroup": "",
           "marker": {
            "color": [
             7.291,
             7.313,
             7.334,
             7.339,
             7.404,
             7.413,
             7.498,
             7.501,
             7.509,
             7.526
            ],
            "coloraxis": "coloraxis",
            "pattern": {
             "shape": ""
            }
           },
           "name": "",
           "offsetgroup": "",
           "orientation": "h",
           "showlegend": false,
           "textposition": "auto",
           "type": "bar",
           "x": [
            7.291,
            7.313,
            7.334,
            7.339,
            7.404,
            7.413,
            7.498,
            7.501,
            7.509,
            7.526
           ],
           "xaxis": "x",
           "y": [
            "Sweden",
            "Australia",
            "New Zealand",
            "Netherlands",
            "Canada",
            "Finland",
            "Norway",
            "Iceland",
            "Switzerland",
            "Denmark"
           ],
           "yaxis": "y"
          }
         ],
         "name": "2016"
        },
        {
         "data": [
          {
           "alignmentgroup": "True",
           "hovertemplate": "year=2017<br>Happiness Score=%{marker.color}<br>Country=%{y}<extra></extra>",
           "legendgroup": "",
           "marker": {
            "color": [
             7.28399991989136,
             7.28399991989136,
             7.31400012969971,
             7.31599998474121,
             7.3769998550415,
             7.4689998626709,
             7.49399995803833,
             7.50400018692017,
             7.52199983596802,
             7.53700017929077
            ],
            "coloraxis": "coloraxis",
            "pattern": {
             "shape": ""
            }
           },
           "name": "",
           "offsetgroup": "",
           "orientation": "h",
           "showlegend": false,
           "textposition": "auto",
           "type": "bar",
           "x": [
            7.28399991989136,
            7.28399991989136,
            7.31400012969971,
            7.31599998474121,
            7.3769998550415,
            7.4689998626709,
            7.49399995803833,
            7.50400018692017,
            7.52199983596802,
            7.53700017929077
           ],
           "xaxis": "x",
           "y": [
            "Australia",
            "Sweden",
            "New Zealand",
            "Canada",
            "Netherlands",
            "Finland",
            "Switzerland",
            "Iceland",
            "Denmark",
            "Norway"
           ],
           "yaxis": "y"
          }
         ],
         "name": "2017"
        },
        {
         "data": [
          {
           "alignmentgroup": "True",
           "hovertemplate": "year=2018<br>Happiness Score=%{marker.color}<br>Country=%{y}<extra></extra>",
           "legendgroup": "",
           "marker": {
            "color": [
             7.272,
             7.314,
             7.324,
             7.328,
             7.441,
             7.487,
             7.495,
             7.555,
             7.594,
             7.632
            ],
            "coloraxis": "coloraxis",
            "pattern": {
             "shape": ""
            }
           },
           "name": "",
           "offsetgroup": "",
           "orientation": "h",
           "showlegend": false,
           "textposition": "auto",
           "type": "bar",
           "x": [
            7.272,
            7.314,
            7.324,
            7.328,
            7.441,
            7.487,
            7.495,
            7.555,
            7.594,
            7.632
           ],
           "xaxis": "x",
           "y": [
            "Australia",
            "Sweden",
            "New Zealand",
            "Canada",
            "Netherlands",
            "Switzerland",
            "Iceland",
            "Denmark",
            "Norway",
            "Finland"
           ],
           "yaxis": "y"
          }
         ],
         "name": "2018"
        },
        {
         "data": [
          {
           "alignmentgroup": "True",
           "hovertemplate": "year=2019<br>Happiness Score=%{marker.color}<br>Country=%{y}<extra></extra>",
           "legendgroup": "",
           "marker": {
            "color": [
             7.246,
             7.278,
             7.307,
             7.343,
             7.48,
             7.488,
             7.494,
             7.554,
             7.6,
             7.769
            ],
            "coloraxis": "coloraxis",
            "pattern": {
             "shape": ""
            }
           },
           "name": "",
           "offsetgroup": "",
           "orientation": "h",
           "showlegend": false,
           "textposition": "auto",
           "type": "bar",
           "x": [
            7.246,
            7.278,
            7.307,
            7.343,
            7.48,
            7.488,
            7.494,
            7.554,
            7.6,
            7.769
           ],
           "xaxis": "x",
           "y": [
            "Austria",
            "Canada",
            "New Zealand",
            "Sweden",
            "Switzerland",
            "Netherlands",
            "Iceland",
            "Norway",
            "Denmark",
            "Finland"
           ],
           "yaxis": "y"
          }
         ],
         "name": "2019"
        }
       ],
       "layout": {
        "barmode": "relative",
        "coloraxis": {
         "colorbar": {
          "title": {
           "text": "Happiness Score"
          }
         },
         "colorscale": [
          [
           0,
           "#0d0887"
          ],
          [
           0.1111111111111111,
           "#46039f"
          ],
          [
           0.2222222222222222,
           "#7201a8"
          ],
          [
           0.3333333333333333,
           "#9c179e"
          ],
          [
           0.4444444444444444,
           "#bd3786"
          ],
          [
           0.5555555555555556,
           "#d8576b"
          ],
          [
           0.6666666666666666,
           "#ed7953"
          ],
          [
           0.7777777777777778,
           "#fb9f3a"
          ],
          [
           0.8888888888888888,
           "#fdca26"
          ],
          [
           1,
           "#f0f921"
          ]
         ]
        },
        "legend": {
         "tracegroupgap": 0
        },
        "sliders": [
         {
          "active": 0,
          "currentvalue": {
           "prefix": "year="
          },
          "len": 0.9,
          "pad": {
           "b": 10,
           "t": 60
          },
          "steps": [
           {
            "args": [
             [
              "2015"
             ],
             {
              "frame": {
               "duration": 0,
               "redraw": true
              },
              "fromcurrent": true,
              "mode": "immediate",
              "transition": {
               "duration": 0,
               "easing": "linear"
              }
             }
            ],
            "label": "2015",
            "method": "animate"
           },
           {
            "args": [
             [
              "2016"
             ],
             {
              "frame": {
               "duration": 0,
               "redraw": true
              },
              "fromcurrent": true,
              "mode": "immediate",
              "transition": {
               "duration": 0,
               "easing": "linear"
              }
             }
            ],
            "label": "2016",
            "method": "animate"
           },
           {
            "args": [
             [
              "2017"
             ],
             {
              "frame": {
               "duration": 0,
               "redraw": true
              },
              "fromcurrent": true,
              "mode": "immediate",
              "transition": {
               "duration": 0,
               "easing": "linear"
              }
             }
            ],
            "label": "2017",
            "method": "animate"
           },
           {
            "args": [
             [
              "2018"
             ],
             {
              "frame": {
               "duration": 0,
               "redraw": true
              },
              "fromcurrent": true,
              "mode": "immediate",
              "transition": {
               "duration": 0,
               "easing": "linear"
              }
             }
            ],
            "label": "2018",
            "method": "animate"
           },
           {
            "args": [
             [
              "2019"
             ],
             {
              "frame": {
               "duration": 0,
               "redraw": true
              },
              "fromcurrent": true,
              "mode": "immediate",
              "transition": {
               "duration": 0,
               "easing": "linear"
              }
             }
            ],
            "label": "2019",
            "method": "animate"
           }
          ],
          "x": 0.1,
          "xanchor": "left",
          "y": 0,
          "yanchor": "top"
         }
        ],
        "template": {
         "data": {
          "bar": [
           {
            "error_x": {
             "color": "#2a3f5f"
            },
            "error_y": {
             "color": "#2a3f5f"
            },
            "marker": {
             "line": {
              "color": "#E5ECF6",
              "width": 0.5
             },
             "pattern": {
              "fillmode": "overlay",
              "size": 10,
              "solidity": 0.2
             }
            },
            "type": "bar"
           }
          ],
          "barpolar": [
           {
            "marker": {
             "line": {
              "color": "#E5ECF6",
              "width": 0.5
             },
             "pattern": {
              "fillmode": "overlay",
              "size": 10,
              "solidity": 0.2
             }
            },
            "type": "barpolar"
           }
          ],
          "carpet": [
           {
            "aaxis": {
             "endlinecolor": "#2a3f5f",
             "gridcolor": "white",
             "linecolor": "white",
             "minorgridcolor": "white",
             "startlinecolor": "#2a3f5f"
            },
            "baxis": {
             "endlinecolor": "#2a3f5f",
             "gridcolor": "white",
             "linecolor": "white",
             "minorgridcolor": "white",
             "startlinecolor": "#2a3f5f"
            },
            "type": "carpet"
           }
          ],
          "choropleth": [
           {
            "colorbar": {
             "outlinewidth": 0,
             "ticks": ""
            },
            "type": "choropleth"
           }
          ],
          "contour": [
           {
            "colorbar": {
             "outlinewidth": 0,
             "ticks": ""
            },
            "colorscale": [
             [
              0,
              "#0d0887"
             ],
             [
              0.1111111111111111,
              "#46039f"
             ],
             [
              0.2222222222222222,
              "#7201a8"
             ],
             [
              0.3333333333333333,
              "#9c179e"
             ],
             [
              0.4444444444444444,
              "#bd3786"
             ],
             [
              0.5555555555555556,
              "#d8576b"
             ],
             [
              0.6666666666666666,
              "#ed7953"
             ],
             [
              0.7777777777777778,
              "#fb9f3a"
             ],
             [
              0.8888888888888888,
              "#fdca26"
             ],
             [
              1,
              "#f0f921"
             ]
            ],
            "type": "contour"
           }
          ],
          "contourcarpet": [
           {
            "colorbar": {
             "outlinewidth": 0,
             "ticks": ""
            },
            "type": "contourcarpet"
           }
          ],
          "heatmap": [
           {
            "colorbar": {
             "outlinewidth": 0,
             "ticks": ""
            },
            "colorscale": [
             [
              0,
              "#0d0887"
             ],
             [
              0.1111111111111111,
              "#46039f"
             ],
             [
              0.2222222222222222,
              "#7201a8"
             ],
             [
              0.3333333333333333,
              "#9c179e"
             ],
             [
              0.4444444444444444,
              "#bd3786"
             ],
             [
              0.5555555555555556,
              "#d8576b"
             ],
             [
              0.6666666666666666,
              "#ed7953"
             ],
             [
              0.7777777777777778,
              "#fb9f3a"
             ],
             [
              0.8888888888888888,
              "#fdca26"
             ],
             [
              1,
              "#f0f921"
             ]
            ],
            "type": "heatmap"
           }
          ],
          "heatmapgl": [
           {
            "colorbar": {
             "outlinewidth": 0,
             "ticks": ""
            },
            "colorscale": [
             [
              0,
              "#0d0887"
             ],
             [
              0.1111111111111111,
              "#46039f"
             ],
             [
              0.2222222222222222,
              "#7201a8"
             ],
             [
              0.3333333333333333,
              "#9c179e"
             ],
             [
              0.4444444444444444,
              "#bd3786"
             ],
             [
              0.5555555555555556,
              "#d8576b"
             ],
             [
              0.6666666666666666,
              "#ed7953"
             ],
             [
              0.7777777777777778,
              "#fb9f3a"
             ],
             [
              0.8888888888888888,
              "#fdca26"
             ],
             [
              1,
              "#f0f921"
             ]
            ],
            "type": "heatmapgl"
           }
          ],
          "histogram": [
           {
            "marker": {
             "pattern": {
              "fillmode": "overlay",
              "size": 10,
              "solidity": 0.2
             }
            },
            "type": "histogram"
           }
          ],
          "histogram2d": [
           {
            "colorbar": {
             "outlinewidth": 0,
             "ticks": ""
            },
            "colorscale": [
             [
              0,
              "#0d0887"
             ],
             [
              0.1111111111111111,
              "#46039f"
             ],
             [
              0.2222222222222222,
              "#7201a8"
             ],
             [
              0.3333333333333333,
              "#9c179e"
             ],
             [
              0.4444444444444444,
              "#bd3786"
             ],
             [
              0.5555555555555556,
              "#d8576b"
             ],
             [
              0.6666666666666666,
              "#ed7953"
             ],
             [
              0.7777777777777778,
              "#fb9f3a"
             ],
             [
              0.8888888888888888,
              "#fdca26"
             ],
             [
              1,
              "#f0f921"
             ]
            ],
            "type": "histogram2d"
           }
          ],
          "histogram2dcontour": [
           {
            "colorbar": {
             "outlinewidth": 0,
             "ticks": ""
            },
            "colorscale": [
             [
              0,
              "#0d0887"
             ],
             [
              0.1111111111111111,
              "#46039f"
             ],
             [
              0.2222222222222222,
              "#7201a8"
             ],
             [
              0.3333333333333333,
              "#9c179e"
             ],
             [
              0.4444444444444444,
              "#bd3786"
             ],
             [
              0.5555555555555556,
              "#d8576b"
             ],
             [
              0.6666666666666666,
              "#ed7953"
             ],
             [
              0.7777777777777778,
              "#fb9f3a"
             ],
             [
              0.8888888888888888,
              "#fdca26"
             ],
             [
              1,
              "#f0f921"
             ]
            ],
            "type": "histogram2dcontour"
           }
          ],
          "mesh3d": [
           {
            "colorbar": {
             "outlinewidth": 0,
             "ticks": ""
            },
            "type": "mesh3d"
           }
          ],
          "parcoords": [
           {
            "line": {
             "colorbar": {
              "outlinewidth": 0,
              "ticks": ""
             }
            },
            "type": "parcoords"
           }
          ],
          "pie": [
           {
            "automargin": true,
            "type": "pie"
           }
          ],
          "scatter": [
           {
            "marker": {
             "colorbar": {
              "outlinewidth": 0,
              "ticks": ""
             }
            },
            "type": "scatter"
           }
          ],
          "scatter3d": [
           {
            "line": {
             "colorbar": {
              "outlinewidth": 0,
              "ticks": ""
             }
            },
            "marker": {
             "colorbar": {
              "outlinewidth": 0,
              "ticks": ""
             }
            },
            "type": "scatter3d"
           }
          ],
          "scattercarpet": [
           {
            "marker": {
             "colorbar": {
              "outlinewidth": 0,
              "ticks": ""
             }
            },
            "type": "scattercarpet"
           }
          ],
          "scattergeo": [
           {
            "marker": {
             "colorbar": {
              "outlinewidth": 0,
              "ticks": ""
             }
            },
            "type": "scattergeo"
           }
          ],
          "scattergl": [
           {
            "marker": {
             "colorbar": {
              "outlinewidth": 0,
              "ticks": ""
             }
            },
            "type": "scattergl"
           }
          ],
          "scattermapbox": [
           {
            "marker": {
             "colorbar": {
              "outlinewidth": 0,
              "ticks": ""
             }
            },
            "type": "scattermapbox"
           }
          ],
          "scatterpolar": [
           {
            "marker": {
             "colorbar": {
              "outlinewidth": 0,
              "ticks": ""
             }
            },
            "type": "scatterpolar"
           }
          ],
          "scatterpolargl": [
           {
            "marker": {
             "colorbar": {
              "outlinewidth": 0,
              "ticks": ""
             }
            },
            "type": "scatterpolargl"
           }
          ],
          "scatterternary": [
           {
            "marker": {
             "colorbar": {
              "outlinewidth": 0,
              "ticks": ""
             }
            },
            "type": "scatterternary"
           }
          ],
          "surface": [
           {
            "colorbar": {
             "outlinewidth": 0,
             "ticks": ""
            },
            "colorscale": [
             [
              0,
              "#0d0887"
             ],
             [
              0.1111111111111111,
              "#46039f"
             ],
             [
              0.2222222222222222,
              "#7201a8"
             ],
             [
              0.3333333333333333,
              "#9c179e"
             ],
             [
              0.4444444444444444,
              "#bd3786"
             ],
             [
              0.5555555555555556,
              "#d8576b"
             ],
             [
              0.6666666666666666,
              "#ed7953"
             ],
             [
              0.7777777777777778,
              "#fb9f3a"
             ],
             [
              0.8888888888888888,
              "#fdca26"
             ],
             [
              1,
              "#f0f921"
             ]
            ],
            "type": "surface"
           }
          ],
          "table": [
           {
            "cells": {
             "fill": {
              "color": "#EBF0F8"
             },
             "line": {
              "color": "white"
             }
            },
            "header": {
             "fill": {
              "color": "#C8D4E3"
             },
             "line": {
              "color": "white"
             }
            },
            "type": "table"
           }
          ]
         },
         "layout": {
          "annotationdefaults": {
           "arrowcolor": "#2a3f5f",
           "arrowhead": 0,
           "arrowwidth": 1
          },
          "autotypenumbers": "strict",
          "coloraxis": {
           "colorbar": {
            "outlinewidth": 0,
            "ticks": ""
           }
          },
          "colorscale": {
           "diverging": [
            [
             0,
             "#8e0152"
            ],
            [
             0.1,
             "#c51b7d"
            ],
            [
             0.2,
             "#de77ae"
            ],
            [
             0.3,
             "#f1b6da"
            ],
            [
             0.4,
             "#fde0ef"
            ],
            [
             0.5,
             "#f7f7f7"
            ],
            [
             0.6,
             "#e6f5d0"
            ],
            [
             0.7,
             "#b8e186"
            ],
            [
             0.8,
             "#7fbc41"
            ],
            [
             0.9,
             "#4d9221"
            ],
            [
             1,
             "#276419"
            ]
           ],
           "sequential": [
            [
             0,
             "#0d0887"
            ],
            [
             0.1111111111111111,
             "#46039f"
            ],
            [
             0.2222222222222222,
             "#7201a8"
            ],
            [
             0.3333333333333333,
             "#9c179e"
            ],
            [
             0.4444444444444444,
             "#bd3786"
            ],
            [
             0.5555555555555556,
             "#d8576b"
            ],
            [
             0.6666666666666666,
             "#ed7953"
            ],
            [
             0.7777777777777778,
             "#fb9f3a"
            ],
            [
             0.8888888888888888,
             "#fdca26"
            ],
            [
             1,
             "#f0f921"
            ]
           ],
           "sequentialminus": [
            [
             0,
             "#0d0887"
            ],
            [
             0.1111111111111111,
             "#46039f"
            ],
            [
             0.2222222222222222,
             "#7201a8"
            ],
            [
             0.3333333333333333,
             "#9c179e"
            ],
            [
             0.4444444444444444,
             "#bd3786"
            ],
            [
             0.5555555555555556,
             "#d8576b"
            ],
            [
             0.6666666666666666,
             "#ed7953"
            ],
            [
             0.7777777777777778,
             "#fb9f3a"
            ],
            [
             0.8888888888888888,
             "#fdca26"
            ],
            [
             1,
             "#f0f921"
            ]
           ]
          },
          "colorway": [
           "#636efa",
           "#EF553B",
           "#00cc96",
           "#ab63fa",
           "#FFA15A",
           "#19d3f3",
           "#FF6692",
           "#B6E880",
           "#FF97FF",
           "#FECB52"
          ],
          "font": {
           "color": "#2a3f5f"
          },
          "geo": {
           "bgcolor": "white",
           "lakecolor": "white",
           "landcolor": "#E5ECF6",
           "showlakes": true,
           "showland": true,
           "subunitcolor": "white"
          },
          "hoverlabel": {
           "align": "left"
          },
          "hovermode": "closest",
          "mapbox": {
           "style": "light"
          },
          "paper_bgcolor": "white",
          "plot_bgcolor": "#E5ECF6",
          "polar": {
           "angularaxis": {
            "gridcolor": "white",
            "linecolor": "white",
            "ticks": ""
           },
           "bgcolor": "#E5ECF6",
           "radialaxis": {
            "gridcolor": "white",
            "linecolor": "white",
            "ticks": ""
           }
          },
          "scene": {
           "xaxis": {
            "backgroundcolor": "#E5ECF6",
            "gridcolor": "white",
            "gridwidth": 2,
            "linecolor": "white",
            "showbackground": true,
            "ticks": "",
            "zerolinecolor": "white"
           },
           "yaxis": {
            "backgroundcolor": "#E5ECF6",
            "gridcolor": "white",
            "gridwidth": 2,
            "linecolor": "white",
            "showbackground": true,
            "ticks": "",
            "zerolinecolor": "white"
           },
           "zaxis": {
            "backgroundcolor": "#E5ECF6",
            "gridcolor": "white",
            "gridwidth": 2,
            "linecolor": "white",
            "showbackground": true,
            "ticks": "",
            "zerolinecolor": "white"
           }
          },
          "shapedefaults": {
           "line": {
            "color": "#2a3f5f"
           }
          },
          "ternary": {
           "aaxis": {
            "gridcolor": "white",
            "linecolor": "white",
            "ticks": ""
           },
           "baxis": {
            "gridcolor": "white",
            "linecolor": "white",
            "ticks": ""
           },
           "bgcolor": "#E5ECF6",
           "caxis": {
            "gridcolor": "white",
            "linecolor": "white",
            "ticks": ""
           }
          },
          "title": {
           "x": 0.05
          },
          "xaxis": {
           "automargin": true,
           "gridcolor": "white",
           "linecolor": "white",
           "ticks": "",
           "title": {
            "standoff": 15
           },
           "zerolinecolor": "white",
           "zerolinewidth": 2
          },
          "yaxis": {
           "automargin": true,
           "gridcolor": "white",
           "linecolor": "white",
           "ticks": "",
           "title": {
            "standoff": 15
           },
           "zerolinecolor": "white",
           "zerolinewidth": 2
          }
         }
        },
        "title": {
         "text": "Happiness Scores of the top 10 Happy Countries of the World for each year from 2015-2019"
        },
        "updatemenus": [
         {
          "buttons": [
           {
            "args": [
             null,
             {
              "frame": {
               "duration": 500,
               "redraw": true
              },
              "fromcurrent": true,
              "mode": "immediate",
              "transition": {
               "duration": 500,
               "easing": "linear"
              }
             }
            ],
            "label": "&#9654;",
            "method": "animate"
           },
           {
            "args": [
             [
              null
             ],
             {
              "frame": {
               "duration": 0,
               "redraw": true
              },
              "fromcurrent": true,
              "mode": "immediate",
              "transition": {
               "duration": 0,
               "easing": "linear"
              }
             }
            ],
            "label": "&#9724;",
            "method": "animate"
           }
          ],
          "direction": "left",
          "pad": {
           "r": 10,
           "t": 70
          },
          "showactive": false,
          "type": "buttons",
          "x": 0.1,
          "xanchor": "right",
          "y": 0,
          "yanchor": "top"
         }
        ],
        "xaxis": {
         "anchor": "y",
         "domain": [
          0,
          1
         ],
         "title": {
          "text": "Happiness Score"
         }
        },
        "yaxis": {
         "anchor": "x",
         "domain": [
          0,
          1
         ],
         "title": {
          "text": "Country"
         }
        }
       }
      },
      "text/html": [
       "<div>                            <div id=\"fdd4a8dd-705b-473a-a259-d5136200cd64\" class=\"plotly-graph-div\" style=\"height:525px; width:100%;\"></div>            <script type=\"text/javascript\">                require([\"plotly\"], function(Plotly) {                    window.PLOTLYENV=window.PLOTLYENV || {};                                    if (document.getElementById(\"fdd4a8dd-705b-473a-a259-d5136200cd64\")) {                    Plotly.newPlot(                        \"fdd4a8dd-705b-473a-a259-d5136200cd64\",                        [{\"alignmentgroup\":\"True\",\"hovertemplate\":\"year=2015<br>Happiness Score=%{marker.color}<br>Country=%{y}<extra></extra>\",\"legendgroup\":\"\",\"marker\":{\"color\":[7.284,7.286,7.364,7.378,7.406,7.427,7.522,7.527,7.561,7.587],\"coloraxis\":\"coloraxis\",\"pattern\":{\"shape\":\"\"}},\"name\":\"\",\"offsetgroup\":\"\",\"orientation\":\"h\",\"showlegend\":false,\"textposition\":\"auto\",\"type\":\"bar\",\"x\":[7.284,7.286,7.364,7.378,7.406,7.427,7.522,7.527,7.561,7.587],\"xaxis\":\"x\",\"y\":[\"Australia\",\"New Zealand\",\"Sweden\",\"Netherlands\",\"Finland\",\"Canada\",\"Norway\",\"Denmark\",\"Iceland\",\"Switzerland\"],\"yaxis\":\"y\"}],                        {\"barmode\":\"relative\",\"coloraxis\":{\"colorbar\":{\"title\":{\"text\":\"Happiness Score\"}},\"colorscale\":[[0.0,\"#0d0887\"],[0.1111111111111111,\"#46039f\"],[0.2222222222222222,\"#7201a8\"],[0.3333333333333333,\"#9c179e\"],[0.4444444444444444,\"#bd3786\"],[0.5555555555555556,\"#d8576b\"],[0.6666666666666666,\"#ed7953\"],[0.7777777777777778,\"#fb9f3a\"],[0.8888888888888888,\"#fdca26\"],[1.0,\"#f0f921\"]]},\"legend\":{\"tracegroupgap\":0},\"sliders\":[{\"active\":0,\"currentvalue\":{\"prefix\":\"year=\"},\"len\":0.9,\"pad\":{\"b\":10,\"t\":60},\"steps\":[{\"args\":[[\"2015\"],{\"frame\":{\"duration\":0,\"redraw\":true},\"fromcurrent\":true,\"mode\":\"immediate\",\"transition\":{\"duration\":0,\"easing\":\"linear\"}}],\"label\":\"2015\",\"method\":\"animate\"},{\"args\":[[\"2016\"],{\"frame\":{\"duration\":0,\"redraw\":true},\"fromcurrent\":true,\"mode\":\"immediate\",\"transition\":{\"duration\":0,\"easing\":\"linear\"}}],\"label\":\"2016\",\"method\":\"animate\"},{\"args\":[[\"2017\"],{\"frame\":{\"duration\":0,\"redraw\":true},\"fromcurrent\":true,\"mode\":\"immediate\",\"transition\":{\"duration\":0,\"easing\":\"linear\"}}],\"label\":\"2017\",\"method\":\"animate\"},{\"args\":[[\"2018\"],{\"frame\":{\"duration\":0,\"redraw\":true},\"fromcurrent\":true,\"mode\":\"immediate\",\"transition\":{\"duration\":0,\"easing\":\"linear\"}}],\"label\":\"2018\",\"method\":\"animate\"},{\"args\":[[\"2019\"],{\"frame\":{\"duration\":0,\"redraw\":true},\"fromcurrent\":true,\"mode\":\"immediate\",\"transition\":{\"duration\":0,\"easing\":\"linear\"}}],\"label\":\"2019\",\"method\":\"animate\"}],\"x\":0.1,\"xanchor\":\"left\",\"y\":0,\"yanchor\":\"top\"}],\"template\":{\"data\":{\"bar\":[{\"error_x\":{\"color\":\"#2a3f5f\"},\"error_y\":{\"color\":\"#2a3f5f\"},\"marker\":{\"line\":{\"color\":\"#E5ECF6\",\"width\":0.5},\"pattern\":{\"fillmode\":\"overlay\",\"size\":10,\"solidity\":0.2}},\"type\":\"bar\"}],\"barpolar\":[{\"marker\":{\"line\":{\"color\":\"#E5ECF6\",\"width\":0.5},\"pattern\":{\"fillmode\":\"overlay\",\"size\":10,\"solidity\":0.2}},\"type\":\"barpolar\"}],\"carpet\":[{\"aaxis\":{\"endlinecolor\":\"#2a3f5f\",\"gridcolor\":\"white\",\"linecolor\":\"white\",\"minorgridcolor\":\"white\",\"startlinecolor\":\"#2a3f5f\"},\"baxis\":{\"endlinecolor\":\"#2a3f5f\",\"gridcolor\":\"white\",\"linecolor\":\"white\",\"minorgridcolor\":\"white\",\"startlinecolor\":\"#2a3f5f\"},\"type\":\"carpet\"}],\"choropleth\":[{\"colorbar\":{\"outlinewidth\":0,\"ticks\":\"\"},\"type\":\"choropleth\"}],\"contour\":[{\"colorbar\":{\"outlinewidth\":0,\"ticks\":\"\"},\"colorscale\":[[0.0,\"#0d0887\"],[0.1111111111111111,\"#46039f\"],[0.2222222222222222,\"#7201a8\"],[0.3333333333333333,\"#9c179e\"],[0.4444444444444444,\"#bd3786\"],[0.5555555555555556,\"#d8576b\"],[0.6666666666666666,\"#ed7953\"],[0.7777777777777778,\"#fb9f3a\"],[0.8888888888888888,\"#fdca26\"],[1.0,\"#f0f921\"]],\"type\":\"contour\"}],\"contourcarpet\":[{\"colorbar\":{\"outlinewidth\":0,\"ticks\":\"\"},\"type\":\"contourcarpet\"}],\"heatmap\":[{\"colorbar\":{\"outlinewidth\":0,\"ticks\":\"\"},\"colorscale\":[[0.0,\"#0d0887\"],[0.1111111111111111,\"#46039f\"],[0.2222222222222222,\"#7201a8\"],[0.3333333333333333,\"#9c179e\"],[0.4444444444444444,\"#bd3786\"],[0.5555555555555556,\"#d8576b\"],[0.6666666666666666,\"#ed7953\"],[0.7777777777777778,\"#fb9f3a\"],[0.8888888888888888,\"#fdca26\"],[1.0,\"#f0f921\"]],\"type\":\"heatmap\"}],\"heatmapgl\":[{\"colorbar\":{\"outlinewidth\":0,\"ticks\":\"\"},\"colorscale\":[[0.0,\"#0d0887\"],[0.1111111111111111,\"#46039f\"],[0.2222222222222222,\"#7201a8\"],[0.3333333333333333,\"#9c179e\"],[0.4444444444444444,\"#bd3786\"],[0.5555555555555556,\"#d8576b\"],[0.6666666666666666,\"#ed7953\"],[0.7777777777777778,\"#fb9f3a\"],[0.8888888888888888,\"#fdca26\"],[1.0,\"#f0f921\"]],\"type\":\"heatmapgl\"}],\"histogram\":[{\"marker\":{\"pattern\":{\"fillmode\":\"overlay\",\"size\":10,\"solidity\":0.2}},\"type\":\"histogram\"}],\"histogram2d\":[{\"colorbar\":{\"outlinewidth\":0,\"ticks\":\"\"},\"colorscale\":[[0.0,\"#0d0887\"],[0.1111111111111111,\"#46039f\"],[0.2222222222222222,\"#7201a8\"],[0.3333333333333333,\"#9c179e\"],[0.4444444444444444,\"#bd3786\"],[0.5555555555555556,\"#d8576b\"],[0.6666666666666666,\"#ed7953\"],[0.7777777777777778,\"#fb9f3a\"],[0.8888888888888888,\"#fdca26\"],[1.0,\"#f0f921\"]],\"type\":\"histogram2d\"}],\"histogram2dcontour\":[{\"colorbar\":{\"outlinewidth\":0,\"ticks\":\"\"},\"colorscale\":[[0.0,\"#0d0887\"],[0.1111111111111111,\"#46039f\"],[0.2222222222222222,\"#7201a8\"],[0.3333333333333333,\"#9c179e\"],[0.4444444444444444,\"#bd3786\"],[0.5555555555555556,\"#d8576b\"],[0.6666666666666666,\"#ed7953\"],[0.7777777777777778,\"#fb9f3a\"],[0.8888888888888888,\"#fdca26\"],[1.0,\"#f0f921\"]],\"type\":\"histogram2dcontour\"}],\"mesh3d\":[{\"colorbar\":{\"outlinewidth\":0,\"ticks\":\"\"},\"type\":\"mesh3d\"}],\"parcoords\":[{\"line\":{\"colorbar\":{\"outlinewidth\":0,\"ticks\":\"\"}},\"type\":\"parcoords\"}],\"pie\":[{\"automargin\":true,\"type\":\"pie\"}],\"scatter\":[{\"marker\":{\"colorbar\":{\"outlinewidth\":0,\"ticks\":\"\"}},\"type\":\"scatter\"}],\"scatter3d\":[{\"line\":{\"colorbar\":{\"outlinewidth\":0,\"ticks\":\"\"}},\"marker\":{\"colorbar\":{\"outlinewidth\":0,\"ticks\":\"\"}},\"type\":\"scatter3d\"}],\"scattercarpet\":[{\"marker\":{\"colorbar\":{\"outlinewidth\":0,\"ticks\":\"\"}},\"type\":\"scattercarpet\"}],\"scattergeo\":[{\"marker\":{\"colorbar\":{\"outlinewidth\":0,\"ticks\":\"\"}},\"type\":\"scattergeo\"}],\"scattergl\":[{\"marker\":{\"colorbar\":{\"outlinewidth\":0,\"ticks\":\"\"}},\"type\":\"scattergl\"}],\"scattermapbox\":[{\"marker\":{\"colorbar\":{\"outlinewidth\":0,\"ticks\":\"\"}},\"type\":\"scattermapbox\"}],\"scatterpolar\":[{\"marker\":{\"colorbar\":{\"outlinewidth\":0,\"ticks\":\"\"}},\"type\":\"scatterpolar\"}],\"scatterpolargl\":[{\"marker\":{\"colorbar\":{\"outlinewidth\":0,\"ticks\":\"\"}},\"type\":\"scatterpolargl\"}],\"scatterternary\":[{\"marker\":{\"colorbar\":{\"outlinewidth\":0,\"ticks\":\"\"}},\"type\":\"scatterternary\"}],\"surface\":[{\"colorbar\":{\"outlinewidth\":0,\"ticks\":\"\"},\"colorscale\":[[0.0,\"#0d0887\"],[0.1111111111111111,\"#46039f\"],[0.2222222222222222,\"#7201a8\"],[0.3333333333333333,\"#9c179e\"],[0.4444444444444444,\"#bd3786\"],[0.5555555555555556,\"#d8576b\"],[0.6666666666666666,\"#ed7953\"],[0.7777777777777778,\"#fb9f3a\"],[0.8888888888888888,\"#fdca26\"],[1.0,\"#f0f921\"]],\"type\":\"surface\"}],\"table\":[{\"cells\":{\"fill\":{\"color\":\"#EBF0F8\"},\"line\":{\"color\":\"white\"}},\"header\":{\"fill\":{\"color\":\"#C8D4E3\"},\"line\":{\"color\":\"white\"}},\"type\":\"table\"}]},\"layout\":{\"annotationdefaults\":{\"arrowcolor\":\"#2a3f5f\",\"arrowhead\":0,\"arrowwidth\":1},\"autotypenumbers\":\"strict\",\"coloraxis\":{\"colorbar\":{\"outlinewidth\":0,\"ticks\":\"\"}},\"colorscale\":{\"diverging\":[[0,\"#8e0152\"],[0.1,\"#c51b7d\"],[0.2,\"#de77ae\"],[0.3,\"#f1b6da\"],[0.4,\"#fde0ef\"],[0.5,\"#f7f7f7\"],[0.6,\"#e6f5d0\"],[0.7,\"#b8e186\"],[0.8,\"#7fbc41\"],[0.9,\"#4d9221\"],[1,\"#276419\"]],\"sequential\":[[0.0,\"#0d0887\"],[0.1111111111111111,\"#46039f\"],[0.2222222222222222,\"#7201a8\"],[0.3333333333333333,\"#9c179e\"],[0.4444444444444444,\"#bd3786\"],[0.5555555555555556,\"#d8576b\"],[0.6666666666666666,\"#ed7953\"],[0.7777777777777778,\"#fb9f3a\"],[0.8888888888888888,\"#fdca26\"],[1.0,\"#f0f921\"]],\"sequentialminus\":[[0.0,\"#0d0887\"],[0.1111111111111111,\"#46039f\"],[0.2222222222222222,\"#7201a8\"],[0.3333333333333333,\"#9c179e\"],[0.4444444444444444,\"#bd3786\"],[0.5555555555555556,\"#d8576b\"],[0.6666666666666666,\"#ed7953\"],[0.7777777777777778,\"#fb9f3a\"],[0.8888888888888888,\"#fdca26\"],[1.0,\"#f0f921\"]]},\"colorway\":[\"#636efa\",\"#EF553B\",\"#00cc96\",\"#ab63fa\",\"#FFA15A\",\"#19d3f3\",\"#FF6692\",\"#B6E880\",\"#FF97FF\",\"#FECB52\"],\"font\":{\"color\":\"#2a3f5f\"},\"geo\":{\"bgcolor\":\"white\",\"lakecolor\":\"white\",\"landcolor\":\"#E5ECF6\",\"showlakes\":true,\"showland\":true,\"subunitcolor\":\"white\"},\"hoverlabel\":{\"align\":\"left\"},\"hovermode\":\"closest\",\"mapbox\":{\"style\":\"light\"},\"paper_bgcolor\":\"white\",\"plot_bgcolor\":\"#E5ECF6\",\"polar\":{\"angularaxis\":{\"gridcolor\":\"white\",\"linecolor\":\"white\",\"ticks\":\"\"},\"bgcolor\":\"#E5ECF6\",\"radialaxis\":{\"gridcolor\":\"white\",\"linecolor\":\"white\",\"ticks\":\"\"}},\"scene\":{\"xaxis\":{\"backgroundcolor\":\"#E5ECF6\",\"gridcolor\":\"white\",\"gridwidth\":2,\"linecolor\":\"white\",\"showbackground\":true,\"ticks\":\"\",\"zerolinecolor\":\"white\"},\"yaxis\":{\"backgroundcolor\":\"#E5ECF6\",\"gridcolor\":\"white\",\"gridwidth\":2,\"linecolor\":\"white\",\"showbackground\":true,\"ticks\":\"\",\"zerolinecolor\":\"white\"},\"zaxis\":{\"backgroundcolor\":\"#E5ECF6\",\"gridcolor\":\"white\",\"gridwidth\":2,\"linecolor\":\"white\",\"showbackground\":true,\"ticks\":\"\",\"zerolinecolor\":\"white\"}},\"shapedefaults\":{\"line\":{\"color\":\"#2a3f5f\"}},\"ternary\":{\"aaxis\":{\"gridcolor\":\"white\",\"linecolor\":\"white\",\"ticks\":\"\"},\"baxis\":{\"gridcolor\":\"white\",\"linecolor\":\"white\",\"ticks\":\"\"},\"bgcolor\":\"#E5ECF6\",\"caxis\":{\"gridcolor\":\"white\",\"linecolor\":\"white\",\"ticks\":\"\"}},\"title\":{\"x\":0.05},\"xaxis\":{\"automargin\":true,\"gridcolor\":\"white\",\"linecolor\":\"white\",\"ticks\":\"\",\"title\":{\"standoff\":15},\"zerolinecolor\":\"white\",\"zerolinewidth\":2},\"yaxis\":{\"automargin\":true,\"gridcolor\":\"white\",\"linecolor\":\"white\",\"ticks\":\"\",\"title\":{\"standoff\":15},\"zerolinecolor\":\"white\",\"zerolinewidth\":2}}},\"title\":{\"text\":\"Happiness Scores of the top 10 Happy Countries of the World for each year from 2015-2019\"},\"updatemenus\":[{\"buttons\":[{\"args\":[null,{\"frame\":{\"duration\":500,\"redraw\":true},\"fromcurrent\":true,\"mode\":\"immediate\",\"transition\":{\"duration\":500,\"easing\":\"linear\"}}],\"label\":\"&#9654;\",\"method\":\"animate\"},{\"args\":[[null],{\"frame\":{\"duration\":0,\"redraw\":true},\"fromcurrent\":true,\"mode\":\"immediate\",\"transition\":{\"duration\":0,\"easing\":\"linear\"}}],\"label\":\"&#9724;\",\"method\":\"animate\"}],\"direction\":\"left\",\"pad\":{\"r\":10,\"t\":70},\"showactive\":false,\"type\":\"buttons\",\"x\":0.1,\"xanchor\":\"right\",\"y\":0,\"yanchor\":\"top\"}],\"xaxis\":{\"anchor\":\"y\",\"domain\":[0.0,1.0],\"title\":{\"text\":\"Happiness Score\"}},\"yaxis\":{\"anchor\":\"x\",\"domain\":[0.0,1.0],\"title\":{\"text\":\"Country\"}}},                        {\"responsive\": true}                    ).then(function(){\n",
       "                            Plotly.addFrames('fdd4a8dd-705b-473a-a259-d5136200cd64', [{\"data\":[{\"alignmentgroup\":\"True\",\"hovertemplate\":\"year=2015<br>Happiness Score=%{marker.color}<br>Country=%{y}<extra></extra>\",\"legendgroup\":\"\",\"marker\":{\"color\":[7.284,7.286,7.364,7.378,7.406,7.427,7.522,7.527,7.561,7.587],\"coloraxis\":\"coloraxis\",\"pattern\":{\"shape\":\"\"}},\"name\":\"\",\"offsetgroup\":\"\",\"orientation\":\"h\",\"showlegend\":false,\"textposition\":\"auto\",\"type\":\"bar\",\"x\":[7.284,7.286,7.364,7.378,7.406,7.427,7.522,7.527,7.561,7.587],\"xaxis\":\"x\",\"y\":[\"Australia\",\"New Zealand\",\"Sweden\",\"Netherlands\",\"Finland\",\"Canada\",\"Norway\",\"Denmark\",\"Iceland\",\"Switzerland\"],\"yaxis\":\"y\"}],\"name\":\"2015\"},{\"data\":[{\"alignmentgroup\":\"True\",\"hovertemplate\":\"year=2016<br>Happiness Score=%{marker.color}<br>Country=%{y}<extra></extra>\",\"legendgroup\":\"\",\"marker\":{\"color\":[7.291,7.313,7.334,7.339,7.404,7.413,7.498,7.501,7.509,7.526],\"coloraxis\":\"coloraxis\",\"pattern\":{\"shape\":\"\"}},\"name\":\"\",\"offsetgroup\":\"\",\"orientation\":\"h\",\"showlegend\":false,\"textposition\":\"auto\",\"type\":\"bar\",\"x\":[7.291,7.313,7.334,7.339,7.404,7.413,7.498,7.501,7.509,7.526],\"xaxis\":\"x\",\"y\":[\"Sweden\",\"Australia\",\"New Zealand\",\"Netherlands\",\"Canada\",\"Finland\",\"Norway\",\"Iceland\",\"Switzerland\",\"Denmark\"],\"yaxis\":\"y\"}],\"name\":\"2016\"},{\"data\":[{\"alignmentgroup\":\"True\",\"hovertemplate\":\"year=2017<br>Happiness Score=%{marker.color}<br>Country=%{y}<extra></extra>\",\"legendgroup\":\"\",\"marker\":{\"color\":[7.28399991989136,7.28399991989136,7.31400012969971,7.31599998474121,7.3769998550415,7.4689998626709,7.49399995803833,7.50400018692017,7.52199983596802,7.53700017929077],\"coloraxis\":\"coloraxis\",\"pattern\":{\"shape\":\"\"}},\"name\":\"\",\"offsetgroup\":\"\",\"orientation\":\"h\",\"showlegend\":false,\"textposition\":\"auto\",\"type\":\"bar\",\"x\":[7.28399991989136,7.28399991989136,7.31400012969971,7.31599998474121,7.3769998550415,7.4689998626709,7.49399995803833,7.50400018692017,7.52199983596802,7.53700017929077],\"xaxis\":\"x\",\"y\":[\"Australia\",\"Sweden\",\"New Zealand\",\"Canada\",\"Netherlands\",\"Finland\",\"Switzerland\",\"Iceland\",\"Denmark\",\"Norway\"],\"yaxis\":\"y\"}],\"name\":\"2017\"},{\"data\":[{\"alignmentgroup\":\"True\",\"hovertemplate\":\"year=2018<br>Happiness Score=%{marker.color}<br>Country=%{y}<extra></extra>\",\"legendgroup\":\"\",\"marker\":{\"color\":[7.272,7.314,7.324,7.328,7.441,7.487,7.495,7.555,7.594,7.632],\"coloraxis\":\"coloraxis\",\"pattern\":{\"shape\":\"\"}},\"name\":\"\",\"offsetgroup\":\"\",\"orientation\":\"h\",\"showlegend\":false,\"textposition\":\"auto\",\"type\":\"bar\",\"x\":[7.272,7.314,7.324,7.328,7.441,7.487,7.495,7.555,7.594,7.632],\"xaxis\":\"x\",\"y\":[\"Australia\",\"Sweden\",\"New Zealand\",\"Canada\",\"Netherlands\",\"Switzerland\",\"Iceland\",\"Denmark\",\"Norway\",\"Finland\"],\"yaxis\":\"y\"}],\"name\":\"2018\"},{\"data\":[{\"alignmentgroup\":\"True\",\"hovertemplate\":\"year=2019<br>Happiness Score=%{marker.color}<br>Country=%{y}<extra></extra>\",\"legendgroup\":\"\",\"marker\":{\"color\":[7.246,7.278,7.307,7.343,7.48,7.488,7.494,7.554,7.6,7.769],\"coloraxis\":\"coloraxis\",\"pattern\":{\"shape\":\"\"}},\"name\":\"\",\"offsetgroup\":\"\",\"orientation\":\"h\",\"showlegend\":false,\"textposition\":\"auto\",\"type\":\"bar\",\"x\":[7.246,7.278,7.307,7.343,7.48,7.488,7.494,7.554,7.6,7.769],\"xaxis\":\"x\",\"y\":[\"Austria\",\"Canada\",\"New Zealand\",\"Sweden\",\"Switzerland\",\"Netherlands\",\"Iceland\",\"Norway\",\"Denmark\",\"Finland\"],\"yaxis\":\"y\"}],\"name\":\"2019\"}]);\n",
       "                        }).then(function(){\n",
       "                            \n",
       "var gd = document.getElementById('fdd4a8dd-705b-473a-a259-d5136200cd64');\n",
       "var x = new MutationObserver(function (mutations, observer) {{\n",
       "        var display = window.getComputedStyle(gd).display;\n",
       "        if (!display || display === 'none') {{\n",
       "            console.log([gd, 'removed!']);\n",
       "            Plotly.purge(gd);\n",
       "            observer.disconnect();\n",
       "        }}\n",
       "}});\n",
       "\n",
       "// Listen for the removal of the full notebook cells\n",
       "var notebookContainer = gd.closest('#notebook-container');\n",
       "if (notebookContainer) {{\n",
       "    x.observe(notebookContainer, {childList: true});\n",
       "}}\n",
       "\n",
       "// Listen for the clearing of the current output cell\n",
       "var outputEl = gd.closest('.output');\n",
       "if (outputEl) {{\n",
       "    x.observe(outputEl, {childList: true});\n",
       "}}\n",
       "\n",
       "                        })                };                });            </script>        </div>"
      ]
     },
     "metadata": {},
     "output_type": "display_data"
    },
    {
     "data": {
      "text/plain": [
       "<Figure size 1584x1584 with 0 Axes>"
      ]
     },
     "metadata": {},
     "output_type": "display_data"
    }
   ],
   "source": [
    "#plotting the top happiest countries from 2015-2019\n",
    "plt.figure(figsize=(22,22))\n",
    "#sns.set(font_scale=1.45)\n",
    "px.bar(data_frame = rslt_df, \n",
    "       y = 'Country', \n",
    "       x = 'Happiness Score', \n",
    "       animation_frame = 'year',\n",
    "       color = 'Happiness Score', \n",
    "       title = 'Happiness Scores of the top 10 Happy Countries of the World for each year from 2015-2019',\n",
    "      orientation='h'\n",
    "    )"
   ]
  },
  {
   "cell_type": "code",
   "execution_count": null,
   "id": "a63922aa",
   "metadata": {},
   "outputs": [],
   "source": [
    "import plotly.graph_objects as go\n",
    "\n",
    "fig = go.Figure()\n",
    "\n",
    "fig.update_layout(\n",
    "    title=\"Plot Title\",\n",
    "    xaxis_title=\"x Axis Title\",\n",
    "    yaxis_title=\"y Axis Title\",\n",
    "    font=dict(\n",
    "        family=\"Courier New, monospace\",\n",
    "        size=18,\n",
    "        color=\"#7f7f7f\"\n",
    "    )\n",
    ")\n"
   ]
  },
  {
   "cell_type": "code",
   "execution_count": 102,
   "id": "9783a501",
   "metadata": {},
   "outputs": [
    {
     "data": {
      "application/vnd.plotly.v1+json": {
       "config": {
        "plotlyServerURL": "https://plot.ly"
       },
       "data": [
        {
         "alignmentgroup": "True",
         "hovertemplate": "year=2015<br>Happiness Score=%{marker.color}<br>Country=%{y}<extra></extra>",
         "legendgroup": "",
         "marker": {
          "color": [
           7.284,
           7.286,
           7.364,
           7.378,
           7.406,
           7.427,
           7.522,
           7.527,
           7.561,
           7.587
          ],
          "coloraxis": "coloraxis",
          "pattern": {
           "shape": ""
          }
         },
         "name": "",
         "offsetgroup": "",
         "orientation": "h",
         "showlegend": false,
         "textposition": "auto",
         "type": "bar",
         "x": [
          7.284,
          7.286,
          7.364,
          7.378,
          7.406,
          7.427,
          7.522,
          7.527,
          7.561,
          7.587
         ],
         "xaxis": "x",
         "y": [
          "Australia",
          "New Zealand",
          "Sweden",
          "Netherlands",
          "Finland",
          "Canada",
          "Norway",
          "Denmark",
          "Iceland",
          "Switzerland"
         ],
         "yaxis": "y"
        }
       ],
       "frames": [
        {
         "data": [
          {
           "alignmentgroup": "True",
           "hovertemplate": "year=2015<br>Happiness Score=%{marker.color}<br>Country=%{y}<extra></extra>",
           "legendgroup": "",
           "marker": {
            "color": [
             7.284,
             7.286,
             7.364,
             7.378,
             7.406,
             7.427,
             7.522,
             7.527,
             7.561,
             7.587
            ],
            "coloraxis": "coloraxis",
            "pattern": {
             "shape": ""
            }
           },
           "name": "",
           "offsetgroup": "",
           "orientation": "h",
           "showlegend": false,
           "textposition": "auto",
           "type": "bar",
           "x": [
            7.284,
            7.286,
            7.364,
            7.378,
            7.406,
            7.427,
            7.522,
            7.527,
            7.561,
            7.587
           ],
           "xaxis": "x",
           "y": [
            "Australia",
            "New Zealand",
            "Sweden",
            "Netherlands",
            "Finland",
            "Canada",
            "Norway",
            "Denmark",
            "Iceland",
            "Switzerland"
           ],
           "yaxis": "y"
          }
         ],
         "name": "2015"
        },
        {
         "data": [
          {
           "alignmentgroup": "True",
           "hovertemplate": "year=2016<br>Happiness Score=%{marker.color}<br>Country=%{y}<extra></extra>",
           "legendgroup": "",
           "marker": {
            "color": [
             7.291,
             7.313,
             7.334,
             7.339,
             7.404,
             7.413,
             7.498,
             7.501,
             7.509,
             7.526
            ],
            "coloraxis": "coloraxis",
            "pattern": {
             "shape": ""
            }
           },
           "name": "",
           "offsetgroup": "",
           "orientation": "h",
           "showlegend": false,
           "textposition": "auto",
           "type": "bar",
           "x": [
            7.291,
            7.313,
            7.334,
            7.339,
            7.404,
            7.413,
            7.498,
            7.501,
            7.509,
            7.526
           ],
           "xaxis": "x",
           "y": [
            "Sweden",
            "Australia",
            "New Zealand",
            "Netherlands",
            "Canada",
            "Finland",
            "Norway",
            "Iceland",
            "Switzerland",
            "Denmark"
           ],
           "yaxis": "y"
          }
         ],
         "name": "2016"
        },
        {
         "data": [
          {
           "alignmentgroup": "True",
           "hovertemplate": "year=2017<br>Happiness Score=%{marker.color}<br>Country=%{y}<extra></extra>",
           "legendgroup": "",
           "marker": {
            "color": [
             7.28399991989136,
             7.28399991989136,
             7.31400012969971,
             7.31599998474121,
             7.3769998550415,
             7.4689998626709,
             7.49399995803833,
             7.50400018692017,
             7.52199983596802,
             7.53700017929077
            ],
            "coloraxis": "coloraxis",
            "pattern": {
             "shape": ""
            }
           },
           "name": "",
           "offsetgroup": "",
           "orientation": "h",
           "showlegend": false,
           "textposition": "auto",
           "type": "bar",
           "x": [
            7.28399991989136,
            7.28399991989136,
            7.31400012969971,
            7.31599998474121,
            7.3769998550415,
            7.4689998626709,
            7.49399995803833,
            7.50400018692017,
            7.52199983596802,
            7.53700017929077
           ],
           "xaxis": "x",
           "y": [
            "Australia",
            "Sweden",
            "New Zealand",
            "Canada",
            "Netherlands",
            "Finland",
            "Switzerland",
            "Iceland",
            "Denmark",
            "Norway"
           ],
           "yaxis": "y"
          }
         ],
         "name": "2017"
        },
        {
         "data": [
          {
           "alignmentgroup": "True",
           "hovertemplate": "year=2018<br>Happiness Score=%{marker.color}<br>Country=%{y}<extra></extra>",
           "legendgroup": "",
           "marker": {
            "color": [
             7.272,
             7.314,
             7.324,
             7.328,
             7.441,
             7.487,
             7.495,
             7.555,
             7.594,
             7.632
            ],
            "coloraxis": "coloraxis",
            "pattern": {
             "shape": ""
            }
           },
           "name": "",
           "offsetgroup": "",
           "orientation": "h",
           "showlegend": false,
           "textposition": "auto",
           "type": "bar",
           "x": [
            7.272,
            7.314,
            7.324,
            7.328,
            7.441,
            7.487,
            7.495,
            7.555,
            7.594,
            7.632
           ],
           "xaxis": "x",
           "y": [
            "Australia",
            "Sweden",
            "New Zealand",
            "Canada",
            "Netherlands",
            "Switzerland",
            "Iceland",
            "Denmark",
            "Norway",
            "Finland"
           ],
           "yaxis": "y"
          }
         ],
         "name": "2018"
        },
        {
         "data": [
          {
           "alignmentgroup": "True",
           "hovertemplate": "year=2019<br>Happiness Score=%{marker.color}<br>Country=%{y}<extra></extra>",
           "legendgroup": "",
           "marker": {
            "color": [
             7.246,
             7.278,
             7.307,
             7.343,
             7.48,
             7.488,
             7.494,
             7.554,
             7.6,
             7.769
            ],
            "coloraxis": "coloraxis",
            "pattern": {
             "shape": ""
            }
           },
           "name": "",
           "offsetgroup": "",
           "orientation": "h",
           "showlegend": false,
           "textposition": "auto",
           "type": "bar",
           "x": [
            7.246,
            7.278,
            7.307,
            7.343,
            7.48,
            7.488,
            7.494,
            7.554,
            7.6,
            7.769
           ],
           "xaxis": "x",
           "y": [
            "Austria",
            "Canada",
            "New Zealand",
            "Sweden",
            "Switzerland",
            "Netherlands",
            "Iceland",
            "Norway",
            "Denmark",
            "Finland"
           ],
           "yaxis": "y"
          }
         ],
         "name": "2019"
        }
       ],
       "layout": {
        "barmode": "relative",
        "coloraxis": {
         "colorbar": {
          "title": {
           "text": "Happiness Score"
          }
         },
         "colorscale": [
          [
           0,
           "#0d0887"
          ],
          [
           0.1111111111111111,
           "#46039f"
          ],
          [
           0.2222222222222222,
           "#7201a8"
          ],
          [
           0.3333333333333333,
           "#9c179e"
          ],
          [
           0.4444444444444444,
           "#bd3786"
          ],
          [
           0.5555555555555556,
           "#d8576b"
          ],
          [
           0.6666666666666666,
           "#ed7953"
          ],
          [
           0.7777777777777778,
           "#fb9f3a"
          ],
          [
           0.8888888888888888,
           "#fdca26"
          ],
          [
           1,
           "#f0f921"
          ]
         ]
        },
        "legend": {
         "tracegroupgap": 0
        },
        "sliders": [
         {
          "active": 0,
          "currentvalue": {
           "prefix": "year="
          },
          "len": 0.9,
          "pad": {
           "b": 10,
           "t": 60
          },
          "steps": [
           {
            "args": [
             [
              "2015"
             ],
             {
              "frame": {
               "duration": 0,
               "redraw": true
              },
              "fromcurrent": true,
              "mode": "immediate",
              "transition": {
               "duration": 0,
               "easing": "linear"
              }
             }
            ],
            "label": "2015",
            "method": "animate"
           },
           {
            "args": [
             [
              "2016"
             ],
             {
              "frame": {
               "duration": 0,
               "redraw": true
              },
              "fromcurrent": true,
              "mode": "immediate",
              "transition": {
               "duration": 0,
               "easing": "linear"
              }
             }
            ],
            "label": "2016",
            "method": "animate"
           },
           {
            "args": [
             [
              "2017"
             ],
             {
              "frame": {
               "duration": 0,
               "redraw": true
              },
              "fromcurrent": true,
              "mode": "immediate",
              "transition": {
               "duration": 0,
               "easing": "linear"
              }
             }
            ],
            "label": "2017",
            "method": "animate"
           },
           {
            "args": [
             [
              "2018"
             ],
             {
              "frame": {
               "duration": 0,
               "redraw": true
              },
              "fromcurrent": true,
              "mode": "immediate",
              "transition": {
               "duration": 0,
               "easing": "linear"
              }
             }
            ],
            "label": "2018",
            "method": "animate"
           },
           {
            "args": [
             [
              "2019"
             ],
             {
              "frame": {
               "duration": 0,
               "redraw": true
              },
              "fromcurrent": true,
              "mode": "immediate",
              "transition": {
               "duration": 0,
               "easing": "linear"
              }
             }
            ],
            "label": "2019",
            "method": "animate"
           }
          ],
          "x": 0.1,
          "xanchor": "left",
          "y": 0,
          "yanchor": "top"
         }
        ],
        "template": {
         "data": {
          "bar": [
           {
            "error_x": {
             "color": "#2a3f5f"
            },
            "error_y": {
             "color": "#2a3f5f"
            },
            "marker": {
             "line": {
              "color": "#E5ECF6",
              "width": 0.5
             },
             "pattern": {
              "fillmode": "overlay",
              "size": 10,
              "solidity": 0.2
             }
            },
            "type": "bar"
           }
          ],
          "barpolar": [
           {
            "marker": {
             "line": {
              "color": "#E5ECF6",
              "width": 0.5
             },
             "pattern": {
              "fillmode": "overlay",
              "size": 10,
              "solidity": 0.2
             }
            },
            "type": "barpolar"
           }
          ],
          "carpet": [
           {
            "aaxis": {
             "endlinecolor": "#2a3f5f",
             "gridcolor": "white",
             "linecolor": "white",
             "minorgridcolor": "white",
             "startlinecolor": "#2a3f5f"
            },
            "baxis": {
             "endlinecolor": "#2a3f5f",
             "gridcolor": "white",
             "linecolor": "white",
             "minorgridcolor": "white",
             "startlinecolor": "#2a3f5f"
            },
            "type": "carpet"
           }
          ],
          "choropleth": [
           {
            "colorbar": {
             "outlinewidth": 0,
             "ticks": ""
            },
            "type": "choropleth"
           }
          ],
          "contour": [
           {
            "colorbar": {
             "outlinewidth": 0,
             "ticks": ""
            },
            "colorscale": [
             [
              0,
              "#0d0887"
             ],
             [
              0.1111111111111111,
              "#46039f"
             ],
             [
              0.2222222222222222,
              "#7201a8"
             ],
             [
              0.3333333333333333,
              "#9c179e"
             ],
             [
              0.4444444444444444,
              "#bd3786"
             ],
             [
              0.5555555555555556,
              "#d8576b"
             ],
             [
              0.6666666666666666,
              "#ed7953"
             ],
             [
              0.7777777777777778,
              "#fb9f3a"
             ],
             [
              0.8888888888888888,
              "#fdca26"
             ],
             [
              1,
              "#f0f921"
             ]
            ],
            "type": "contour"
           }
          ],
          "contourcarpet": [
           {
            "colorbar": {
             "outlinewidth": 0,
             "ticks": ""
            },
            "type": "contourcarpet"
           }
          ],
          "heatmap": [
           {
            "colorbar": {
             "outlinewidth": 0,
             "ticks": ""
            },
            "colorscale": [
             [
              0,
              "#0d0887"
             ],
             [
              0.1111111111111111,
              "#46039f"
             ],
             [
              0.2222222222222222,
              "#7201a8"
             ],
             [
              0.3333333333333333,
              "#9c179e"
             ],
             [
              0.4444444444444444,
              "#bd3786"
             ],
             [
              0.5555555555555556,
              "#d8576b"
             ],
             [
              0.6666666666666666,
              "#ed7953"
             ],
             [
              0.7777777777777778,
              "#fb9f3a"
             ],
             [
              0.8888888888888888,
              "#fdca26"
             ],
             [
              1,
              "#f0f921"
             ]
            ],
            "type": "heatmap"
           }
          ],
          "heatmapgl": [
           {
            "colorbar": {
             "outlinewidth": 0,
             "ticks": ""
            },
            "colorscale": [
             [
              0,
              "#0d0887"
             ],
             [
              0.1111111111111111,
              "#46039f"
             ],
             [
              0.2222222222222222,
              "#7201a8"
             ],
             [
              0.3333333333333333,
              "#9c179e"
             ],
             [
              0.4444444444444444,
              "#bd3786"
             ],
             [
              0.5555555555555556,
              "#d8576b"
             ],
             [
              0.6666666666666666,
              "#ed7953"
             ],
             [
              0.7777777777777778,
              "#fb9f3a"
             ],
             [
              0.8888888888888888,
              "#fdca26"
             ],
             [
              1,
              "#f0f921"
             ]
            ],
            "type": "heatmapgl"
           }
          ],
          "histogram": [
           {
            "marker": {
             "pattern": {
              "fillmode": "overlay",
              "size": 10,
              "solidity": 0.2
             }
            },
            "type": "histogram"
           }
          ],
          "histogram2d": [
           {
            "colorbar": {
             "outlinewidth": 0,
             "ticks": ""
            },
            "colorscale": [
             [
              0,
              "#0d0887"
             ],
             [
              0.1111111111111111,
              "#46039f"
             ],
             [
              0.2222222222222222,
              "#7201a8"
             ],
             [
              0.3333333333333333,
              "#9c179e"
             ],
             [
              0.4444444444444444,
              "#bd3786"
             ],
             [
              0.5555555555555556,
              "#d8576b"
             ],
             [
              0.6666666666666666,
              "#ed7953"
             ],
             [
              0.7777777777777778,
              "#fb9f3a"
             ],
             [
              0.8888888888888888,
              "#fdca26"
             ],
             [
              1,
              "#f0f921"
             ]
            ],
            "type": "histogram2d"
           }
          ],
          "histogram2dcontour": [
           {
            "colorbar": {
             "outlinewidth": 0,
             "ticks": ""
            },
            "colorscale": [
             [
              0,
              "#0d0887"
             ],
             [
              0.1111111111111111,
              "#46039f"
             ],
             [
              0.2222222222222222,
              "#7201a8"
             ],
             [
              0.3333333333333333,
              "#9c179e"
             ],
             [
              0.4444444444444444,
              "#bd3786"
             ],
             [
              0.5555555555555556,
              "#d8576b"
             ],
             [
              0.6666666666666666,
              "#ed7953"
             ],
             [
              0.7777777777777778,
              "#fb9f3a"
             ],
             [
              0.8888888888888888,
              "#fdca26"
             ],
             [
              1,
              "#f0f921"
             ]
            ],
            "type": "histogram2dcontour"
           }
          ],
          "mesh3d": [
           {
            "colorbar": {
             "outlinewidth": 0,
             "ticks": ""
            },
            "type": "mesh3d"
           }
          ],
          "parcoords": [
           {
            "line": {
             "colorbar": {
              "outlinewidth": 0,
              "ticks": ""
             }
            },
            "type": "parcoords"
           }
          ],
          "pie": [
           {
            "automargin": true,
            "type": "pie"
           }
          ],
          "scatter": [
           {
            "marker": {
             "colorbar": {
              "outlinewidth": 0,
              "ticks": ""
             }
            },
            "type": "scatter"
           }
          ],
          "scatter3d": [
           {
            "line": {
             "colorbar": {
              "outlinewidth": 0,
              "ticks": ""
             }
            },
            "marker": {
             "colorbar": {
              "outlinewidth": 0,
              "ticks": ""
             }
            },
            "type": "scatter3d"
           }
          ],
          "scattercarpet": [
           {
            "marker": {
             "colorbar": {
              "outlinewidth": 0,
              "ticks": ""
             }
            },
            "type": "scattercarpet"
           }
          ],
          "scattergeo": [
           {
            "marker": {
             "colorbar": {
              "outlinewidth": 0,
              "ticks": ""
             }
            },
            "type": "scattergeo"
           }
          ],
          "scattergl": [
           {
            "marker": {
             "colorbar": {
              "outlinewidth": 0,
              "ticks": ""
             }
            },
            "type": "scattergl"
           }
          ],
          "scattermapbox": [
           {
            "marker": {
             "colorbar": {
              "outlinewidth": 0,
              "ticks": ""
             }
            },
            "type": "scattermapbox"
           }
          ],
          "scatterpolar": [
           {
            "marker": {
             "colorbar": {
              "outlinewidth": 0,
              "ticks": ""
             }
            },
            "type": "scatterpolar"
           }
          ],
          "scatterpolargl": [
           {
            "marker": {
             "colorbar": {
              "outlinewidth": 0,
              "ticks": ""
             }
            },
            "type": "scatterpolargl"
           }
          ],
          "scatterternary": [
           {
            "marker": {
             "colorbar": {
              "outlinewidth": 0,
              "ticks": ""
             }
            },
            "type": "scatterternary"
           }
          ],
          "surface": [
           {
            "colorbar": {
             "outlinewidth": 0,
             "ticks": ""
            },
            "colorscale": [
             [
              0,
              "#0d0887"
             ],
             [
              0.1111111111111111,
              "#46039f"
             ],
             [
              0.2222222222222222,
              "#7201a8"
             ],
             [
              0.3333333333333333,
              "#9c179e"
             ],
             [
              0.4444444444444444,
              "#bd3786"
             ],
             [
              0.5555555555555556,
              "#d8576b"
             ],
             [
              0.6666666666666666,
              "#ed7953"
             ],
             [
              0.7777777777777778,
              "#fb9f3a"
             ],
             [
              0.8888888888888888,
              "#fdca26"
             ],
             [
              1,
              "#f0f921"
             ]
            ],
            "type": "surface"
           }
          ],
          "table": [
           {
            "cells": {
             "fill": {
              "color": "#EBF0F8"
             },
             "line": {
              "color": "white"
             }
            },
            "header": {
             "fill": {
              "color": "#C8D4E3"
             },
             "line": {
              "color": "white"
             }
            },
            "type": "table"
           }
          ]
         },
         "layout": {
          "annotationdefaults": {
           "arrowcolor": "#2a3f5f",
           "arrowhead": 0,
           "arrowwidth": 1
          },
          "autotypenumbers": "strict",
          "coloraxis": {
           "colorbar": {
            "outlinewidth": 0,
            "ticks": ""
           }
          },
          "colorscale": {
           "diverging": [
            [
             0,
             "#8e0152"
            ],
            [
             0.1,
             "#c51b7d"
            ],
            [
             0.2,
             "#de77ae"
            ],
            [
             0.3,
             "#f1b6da"
            ],
            [
             0.4,
             "#fde0ef"
            ],
            [
             0.5,
             "#f7f7f7"
            ],
            [
             0.6,
             "#e6f5d0"
            ],
            [
             0.7,
             "#b8e186"
            ],
            [
             0.8,
             "#7fbc41"
            ],
            [
             0.9,
             "#4d9221"
            ],
            [
             1,
             "#276419"
            ]
           ],
           "sequential": [
            [
             0,
             "#0d0887"
            ],
            [
             0.1111111111111111,
             "#46039f"
            ],
            [
             0.2222222222222222,
             "#7201a8"
            ],
            [
             0.3333333333333333,
             "#9c179e"
            ],
            [
             0.4444444444444444,
             "#bd3786"
            ],
            [
             0.5555555555555556,
             "#d8576b"
            ],
            [
             0.6666666666666666,
             "#ed7953"
            ],
            [
             0.7777777777777778,
             "#fb9f3a"
            ],
            [
             0.8888888888888888,
             "#fdca26"
            ],
            [
             1,
             "#f0f921"
            ]
           ],
           "sequentialminus": [
            [
             0,
             "#0d0887"
            ],
            [
             0.1111111111111111,
             "#46039f"
            ],
            [
             0.2222222222222222,
             "#7201a8"
            ],
            [
             0.3333333333333333,
             "#9c179e"
            ],
            [
             0.4444444444444444,
             "#bd3786"
            ],
            [
             0.5555555555555556,
             "#d8576b"
            ],
            [
             0.6666666666666666,
             "#ed7953"
            ],
            [
             0.7777777777777778,
             "#fb9f3a"
            ],
            [
             0.8888888888888888,
             "#fdca26"
            ],
            [
             1,
             "#f0f921"
            ]
           ]
          },
          "colorway": [
           "#636efa",
           "#EF553B",
           "#00cc96",
           "#ab63fa",
           "#FFA15A",
           "#19d3f3",
           "#FF6692",
           "#B6E880",
           "#FF97FF",
           "#FECB52"
          ],
          "font": {
           "color": "#2a3f5f"
          },
          "geo": {
           "bgcolor": "white",
           "lakecolor": "white",
           "landcolor": "#E5ECF6",
           "showlakes": true,
           "showland": true,
           "subunitcolor": "white"
          },
          "hoverlabel": {
           "align": "left"
          },
          "hovermode": "closest",
          "mapbox": {
           "style": "light"
          },
          "paper_bgcolor": "white",
          "plot_bgcolor": "#E5ECF6",
          "polar": {
           "angularaxis": {
            "gridcolor": "white",
            "linecolor": "white",
            "ticks": ""
           },
           "bgcolor": "#E5ECF6",
           "radialaxis": {
            "gridcolor": "white",
            "linecolor": "white",
            "ticks": ""
           }
          },
          "scene": {
           "xaxis": {
            "backgroundcolor": "#E5ECF6",
            "gridcolor": "white",
            "gridwidth": 2,
            "linecolor": "white",
            "showbackground": true,
            "ticks": "",
            "zerolinecolor": "white"
           },
           "yaxis": {
            "backgroundcolor": "#E5ECF6",
            "gridcolor": "white",
            "gridwidth": 2,
            "linecolor": "white",
            "showbackground": true,
            "ticks": "",
            "zerolinecolor": "white"
           },
           "zaxis": {
            "backgroundcolor": "#E5ECF6",
            "gridcolor": "white",
            "gridwidth": 2,
            "linecolor": "white",
            "showbackground": true,
            "ticks": "",
            "zerolinecolor": "white"
           }
          },
          "shapedefaults": {
           "line": {
            "color": "#2a3f5f"
           }
          },
          "ternary": {
           "aaxis": {
            "gridcolor": "white",
            "linecolor": "white",
            "ticks": ""
           },
           "baxis": {
            "gridcolor": "white",
            "linecolor": "white",
            "ticks": ""
           },
           "bgcolor": "#E5ECF6",
           "caxis": {
            "gridcolor": "white",
            "linecolor": "white",
            "ticks": ""
           }
          },
          "title": {
           "x": 0.05
          },
          "xaxis": {
           "automargin": true,
           "gridcolor": "white",
           "linecolor": "white",
           "ticks": "",
           "title": {
            "standoff": 15
           },
           "zerolinecolor": "white",
           "zerolinewidth": 2
          },
          "yaxis": {
           "automargin": true,
           "gridcolor": "white",
           "linecolor": "white",
           "ticks": "",
           "title": {
            "standoff": 15
           },
           "zerolinecolor": "white",
           "zerolinewidth": 2
          }
         }
        },
        "title": {
         "text": "Happiness Scores of the top 10 Happy Countries of the World for each year from 2015-2019"
        },
        "updatemenus": [
         {
          "buttons": [
           {
            "args": [
             null,
             {
              "frame": {
               "duration": 500,
               "redraw": true
              },
              "fromcurrent": true,
              "mode": "immediate",
              "transition": {
               "duration": 500,
               "easing": "linear"
              }
             }
            ],
            "label": "&#9654;",
            "method": "animate"
           },
           {
            "args": [
             [
              null
             ],
             {
              "frame": {
               "duration": 0,
               "redraw": true
              },
              "fromcurrent": true,
              "mode": "immediate",
              "transition": {
               "duration": 0,
               "easing": "linear"
              }
             }
            ],
            "label": "&#9724;",
            "method": "animate"
           }
          ],
          "direction": "left",
          "pad": {
           "r": 10,
           "t": 70
          },
          "showactive": false,
          "type": "buttons",
          "x": 0.1,
          "xanchor": "right",
          "y": 0,
          "yanchor": "top"
         }
        ],
        "xaxis": {
         "anchor": "y",
         "domain": [
          0,
          1
         ],
         "title": {
          "text": "Happiness Score"
         }
        },
        "yaxis": {
         "anchor": "x",
         "domain": [
          0,
          1
         ],
         "title": {
          "text": "Country"
         }
        }
       }
      },
      "text/html": [
       "<div>                            <div id=\"6875a2a4-5a47-4708-8a15-0d7221064492\" class=\"plotly-graph-div\" style=\"height:525px; width:100%;\"></div>            <script type=\"text/javascript\">                require([\"plotly\"], function(Plotly) {                    window.PLOTLYENV=window.PLOTLYENV || {};                                    if (document.getElementById(\"6875a2a4-5a47-4708-8a15-0d7221064492\")) {                    Plotly.newPlot(                        \"6875a2a4-5a47-4708-8a15-0d7221064492\",                        [{\"alignmentgroup\":\"True\",\"hovertemplate\":\"year=2015<br>Happiness Score=%{marker.color}<br>Country=%{y}<extra></extra>\",\"legendgroup\":\"\",\"marker\":{\"color\":[7.284,7.286,7.364,7.378,7.406,7.427,7.522,7.527,7.561,7.587],\"coloraxis\":\"coloraxis\",\"pattern\":{\"shape\":\"\"}},\"name\":\"\",\"offsetgroup\":\"\",\"orientation\":\"h\",\"showlegend\":false,\"textposition\":\"auto\",\"type\":\"bar\",\"x\":[7.284,7.286,7.364,7.378,7.406,7.427,7.522,7.527,7.561,7.587],\"xaxis\":\"x\",\"y\":[\"Australia\",\"New Zealand\",\"Sweden\",\"Netherlands\",\"Finland\",\"Canada\",\"Norway\",\"Denmark\",\"Iceland\",\"Switzerland\"],\"yaxis\":\"y\"}],                        {\"barmode\":\"relative\",\"coloraxis\":{\"colorbar\":{\"title\":{\"text\":\"Happiness Score\"}},\"colorscale\":[[0.0,\"#0d0887\"],[0.1111111111111111,\"#46039f\"],[0.2222222222222222,\"#7201a8\"],[0.3333333333333333,\"#9c179e\"],[0.4444444444444444,\"#bd3786\"],[0.5555555555555556,\"#d8576b\"],[0.6666666666666666,\"#ed7953\"],[0.7777777777777778,\"#fb9f3a\"],[0.8888888888888888,\"#fdca26\"],[1.0,\"#f0f921\"]]},\"legend\":{\"tracegroupgap\":0},\"sliders\":[{\"active\":0,\"currentvalue\":{\"prefix\":\"year=\"},\"len\":0.9,\"pad\":{\"b\":10,\"t\":60},\"steps\":[{\"args\":[[\"2015\"],{\"frame\":{\"duration\":0,\"redraw\":true},\"fromcurrent\":true,\"mode\":\"immediate\",\"transition\":{\"duration\":0,\"easing\":\"linear\"}}],\"label\":\"2015\",\"method\":\"animate\"},{\"args\":[[\"2016\"],{\"frame\":{\"duration\":0,\"redraw\":true},\"fromcurrent\":true,\"mode\":\"immediate\",\"transition\":{\"duration\":0,\"easing\":\"linear\"}}],\"label\":\"2016\",\"method\":\"animate\"},{\"args\":[[\"2017\"],{\"frame\":{\"duration\":0,\"redraw\":true},\"fromcurrent\":true,\"mode\":\"immediate\",\"transition\":{\"duration\":0,\"easing\":\"linear\"}}],\"label\":\"2017\",\"method\":\"animate\"},{\"args\":[[\"2018\"],{\"frame\":{\"duration\":0,\"redraw\":true},\"fromcurrent\":true,\"mode\":\"immediate\",\"transition\":{\"duration\":0,\"easing\":\"linear\"}}],\"label\":\"2018\",\"method\":\"animate\"},{\"args\":[[\"2019\"],{\"frame\":{\"duration\":0,\"redraw\":true},\"fromcurrent\":true,\"mode\":\"immediate\",\"transition\":{\"duration\":0,\"easing\":\"linear\"}}],\"label\":\"2019\",\"method\":\"animate\"}],\"x\":0.1,\"xanchor\":\"left\",\"y\":0,\"yanchor\":\"top\"}],\"template\":{\"data\":{\"bar\":[{\"error_x\":{\"color\":\"#2a3f5f\"},\"error_y\":{\"color\":\"#2a3f5f\"},\"marker\":{\"line\":{\"color\":\"#E5ECF6\",\"width\":0.5},\"pattern\":{\"fillmode\":\"overlay\",\"size\":10,\"solidity\":0.2}},\"type\":\"bar\"}],\"barpolar\":[{\"marker\":{\"line\":{\"color\":\"#E5ECF6\",\"width\":0.5},\"pattern\":{\"fillmode\":\"overlay\",\"size\":10,\"solidity\":0.2}},\"type\":\"barpolar\"}],\"carpet\":[{\"aaxis\":{\"endlinecolor\":\"#2a3f5f\",\"gridcolor\":\"white\",\"linecolor\":\"white\",\"minorgridcolor\":\"white\",\"startlinecolor\":\"#2a3f5f\"},\"baxis\":{\"endlinecolor\":\"#2a3f5f\",\"gridcolor\":\"white\",\"linecolor\":\"white\",\"minorgridcolor\":\"white\",\"startlinecolor\":\"#2a3f5f\"},\"type\":\"carpet\"}],\"choropleth\":[{\"colorbar\":{\"outlinewidth\":0,\"ticks\":\"\"},\"type\":\"choropleth\"}],\"contour\":[{\"colorbar\":{\"outlinewidth\":0,\"ticks\":\"\"},\"colorscale\":[[0.0,\"#0d0887\"],[0.1111111111111111,\"#46039f\"],[0.2222222222222222,\"#7201a8\"],[0.3333333333333333,\"#9c179e\"],[0.4444444444444444,\"#bd3786\"],[0.5555555555555556,\"#d8576b\"],[0.6666666666666666,\"#ed7953\"],[0.7777777777777778,\"#fb9f3a\"],[0.8888888888888888,\"#fdca26\"],[1.0,\"#f0f921\"]],\"type\":\"contour\"}],\"contourcarpet\":[{\"colorbar\":{\"outlinewidth\":0,\"ticks\":\"\"},\"type\":\"contourcarpet\"}],\"heatmap\":[{\"colorbar\":{\"outlinewidth\":0,\"ticks\":\"\"},\"colorscale\":[[0.0,\"#0d0887\"],[0.1111111111111111,\"#46039f\"],[0.2222222222222222,\"#7201a8\"],[0.3333333333333333,\"#9c179e\"],[0.4444444444444444,\"#bd3786\"],[0.5555555555555556,\"#d8576b\"],[0.6666666666666666,\"#ed7953\"],[0.7777777777777778,\"#fb9f3a\"],[0.8888888888888888,\"#fdca26\"],[1.0,\"#f0f921\"]],\"type\":\"heatmap\"}],\"heatmapgl\":[{\"colorbar\":{\"outlinewidth\":0,\"ticks\":\"\"},\"colorscale\":[[0.0,\"#0d0887\"],[0.1111111111111111,\"#46039f\"],[0.2222222222222222,\"#7201a8\"],[0.3333333333333333,\"#9c179e\"],[0.4444444444444444,\"#bd3786\"],[0.5555555555555556,\"#d8576b\"],[0.6666666666666666,\"#ed7953\"],[0.7777777777777778,\"#fb9f3a\"],[0.8888888888888888,\"#fdca26\"],[1.0,\"#f0f921\"]],\"type\":\"heatmapgl\"}],\"histogram\":[{\"marker\":{\"pattern\":{\"fillmode\":\"overlay\",\"size\":10,\"solidity\":0.2}},\"type\":\"histogram\"}],\"histogram2d\":[{\"colorbar\":{\"outlinewidth\":0,\"ticks\":\"\"},\"colorscale\":[[0.0,\"#0d0887\"],[0.1111111111111111,\"#46039f\"],[0.2222222222222222,\"#7201a8\"],[0.3333333333333333,\"#9c179e\"],[0.4444444444444444,\"#bd3786\"],[0.5555555555555556,\"#d8576b\"],[0.6666666666666666,\"#ed7953\"],[0.7777777777777778,\"#fb9f3a\"],[0.8888888888888888,\"#fdca26\"],[1.0,\"#f0f921\"]],\"type\":\"histogram2d\"}],\"histogram2dcontour\":[{\"colorbar\":{\"outlinewidth\":0,\"ticks\":\"\"},\"colorscale\":[[0.0,\"#0d0887\"],[0.1111111111111111,\"#46039f\"],[0.2222222222222222,\"#7201a8\"],[0.3333333333333333,\"#9c179e\"],[0.4444444444444444,\"#bd3786\"],[0.5555555555555556,\"#d8576b\"],[0.6666666666666666,\"#ed7953\"],[0.7777777777777778,\"#fb9f3a\"],[0.8888888888888888,\"#fdca26\"],[1.0,\"#f0f921\"]],\"type\":\"histogram2dcontour\"}],\"mesh3d\":[{\"colorbar\":{\"outlinewidth\":0,\"ticks\":\"\"},\"type\":\"mesh3d\"}],\"parcoords\":[{\"line\":{\"colorbar\":{\"outlinewidth\":0,\"ticks\":\"\"}},\"type\":\"parcoords\"}],\"pie\":[{\"automargin\":true,\"type\":\"pie\"}],\"scatter\":[{\"marker\":{\"colorbar\":{\"outlinewidth\":0,\"ticks\":\"\"}},\"type\":\"scatter\"}],\"scatter3d\":[{\"line\":{\"colorbar\":{\"outlinewidth\":0,\"ticks\":\"\"}},\"marker\":{\"colorbar\":{\"outlinewidth\":0,\"ticks\":\"\"}},\"type\":\"scatter3d\"}],\"scattercarpet\":[{\"marker\":{\"colorbar\":{\"outlinewidth\":0,\"ticks\":\"\"}},\"type\":\"scattercarpet\"}],\"scattergeo\":[{\"marker\":{\"colorbar\":{\"outlinewidth\":0,\"ticks\":\"\"}},\"type\":\"scattergeo\"}],\"scattergl\":[{\"marker\":{\"colorbar\":{\"outlinewidth\":0,\"ticks\":\"\"}},\"type\":\"scattergl\"}],\"scattermapbox\":[{\"marker\":{\"colorbar\":{\"outlinewidth\":0,\"ticks\":\"\"}},\"type\":\"scattermapbox\"}],\"scatterpolar\":[{\"marker\":{\"colorbar\":{\"outlinewidth\":0,\"ticks\":\"\"}},\"type\":\"scatterpolar\"}],\"scatterpolargl\":[{\"marker\":{\"colorbar\":{\"outlinewidth\":0,\"ticks\":\"\"}},\"type\":\"scatterpolargl\"}],\"scatterternary\":[{\"marker\":{\"colorbar\":{\"outlinewidth\":0,\"ticks\":\"\"}},\"type\":\"scatterternary\"}],\"surface\":[{\"colorbar\":{\"outlinewidth\":0,\"ticks\":\"\"},\"colorscale\":[[0.0,\"#0d0887\"],[0.1111111111111111,\"#46039f\"],[0.2222222222222222,\"#7201a8\"],[0.3333333333333333,\"#9c179e\"],[0.4444444444444444,\"#bd3786\"],[0.5555555555555556,\"#d8576b\"],[0.6666666666666666,\"#ed7953\"],[0.7777777777777778,\"#fb9f3a\"],[0.8888888888888888,\"#fdca26\"],[1.0,\"#f0f921\"]],\"type\":\"surface\"}],\"table\":[{\"cells\":{\"fill\":{\"color\":\"#EBF0F8\"},\"line\":{\"color\":\"white\"}},\"header\":{\"fill\":{\"color\":\"#C8D4E3\"},\"line\":{\"color\":\"white\"}},\"type\":\"table\"}]},\"layout\":{\"annotationdefaults\":{\"arrowcolor\":\"#2a3f5f\",\"arrowhead\":0,\"arrowwidth\":1},\"autotypenumbers\":\"strict\",\"coloraxis\":{\"colorbar\":{\"outlinewidth\":0,\"ticks\":\"\"}},\"colorscale\":{\"diverging\":[[0,\"#8e0152\"],[0.1,\"#c51b7d\"],[0.2,\"#de77ae\"],[0.3,\"#f1b6da\"],[0.4,\"#fde0ef\"],[0.5,\"#f7f7f7\"],[0.6,\"#e6f5d0\"],[0.7,\"#b8e186\"],[0.8,\"#7fbc41\"],[0.9,\"#4d9221\"],[1,\"#276419\"]],\"sequential\":[[0.0,\"#0d0887\"],[0.1111111111111111,\"#46039f\"],[0.2222222222222222,\"#7201a8\"],[0.3333333333333333,\"#9c179e\"],[0.4444444444444444,\"#bd3786\"],[0.5555555555555556,\"#d8576b\"],[0.6666666666666666,\"#ed7953\"],[0.7777777777777778,\"#fb9f3a\"],[0.8888888888888888,\"#fdca26\"],[1.0,\"#f0f921\"]],\"sequentialminus\":[[0.0,\"#0d0887\"],[0.1111111111111111,\"#46039f\"],[0.2222222222222222,\"#7201a8\"],[0.3333333333333333,\"#9c179e\"],[0.4444444444444444,\"#bd3786\"],[0.5555555555555556,\"#d8576b\"],[0.6666666666666666,\"#ed7953\"],[0.7777777777777778,\"#fb9f3a\"],[0.8888888888888888,\"#fdca26\"],[1.0,\"#f0f921\"]]},\"colorway\":[\"#636efa\",\"#EF553B\",\"#00cc96\",\"#ab63fa\",\"#FFA15A\",\"#19d3f3\",\"#FF6692\",\"#B6E880\",\"#FF97FF\",\"#FECB52\"],\"font\":{\"color\":\"#2a3f5f\"},\"geo\":{\"bgcolor\":\"white\",\"lakecolor\":\"white\",\"landcolor\":\"#E5ECF6\",\"showlakes\":true,\"showland\":true,\"subunitcolor\":\"white\"},\"hoverlabel\":{\"align\":\"left\"},\"hovermode\":\"closest\",\"mapbox\":{\"style\":\"light\"},\"paper_bgcolor\":\"white\",\"plot_bgcolor\":\"#E5ECF6\",\"polar\":{\"angularaxis\":{\"gridcolor\":\"white\",\"linecolor\":\"white\",\"ticks\":\"\"},\"bgcolor\":\"#E5ECF6\",\"radialaxis\":{\"gridcolor\":\"white\",\"linecolor\":\"white\",\"ticks\":\"\"}},\"scene\":{\"xaxis\":{\"backgroundcolor\":\"#E5ECF6\",\"gridcolor\":\"white\",\"gridwidth\":2,\"linecolor\":\"white\",\"showbackground\":true,\"ticks\":\"\",\"zerolinecolor\":\"white\"},\"yaxis\":{\"backgroundcolor\":\"#E5ECF6\",\"gridcolor\":\"white\",\"gridwidth\":2,\"linecolor\":\"white\",\"showbackground\":true,\"ticks\":\"\",\"zerolinecolor\":\"white\"},\"zaxis\":{\"backgroundcolor\":\"#E5ECF6\",\"gridcolor\":\"white\",\"gridwidth\":2,\"linecolor\":\"white\",\"showbackground\":true,\"ticks\":\"\",\"zerolinecolor\":\"white\"}},\"shapedefaults\":{\"line\":{\"color\":\"#2a3f5f\"}},\"ternary\":{\"aaxis\":{\"gridcolor\":\"white\",\"linecolor\":\"white\",\"ticks\":\"\"},\"baxis\":{\"gridcolor\":\"white\",\"linecolor\":\"white\",\"ticks\":\"\"},\"bgcolor\":\"#E5ECF6\",\"caxis\":{\"gridcolor\":\"white\",\"linecolor\":\"white\",\"ticks\":\"\"}},\"title\":{\"x\":0.05},\"xaxis\":{\"automargin\":true,\"gridcolor\":\"white\",\"linecolor\":\"white\",\"ticks\":\"\",\"title\":{\"standoff\":15},\"zerolinecolor\":\"white\",\"zerolinewidth\":2},\"yaxis\":{\"automargin\":true,\"gridcolor\":\"white\",\"linecolor\":\"white\",\"ticks\":\"\",\"title\":{\"standoff\":15},\"zerolinecolor\":\"white\",\"zerolinewidth\":2}}},\"title\":{\"text\":\"Happiness Scores of the top 10 Happy Countries of the World for each year from 2015-2019\"},\"updatemenus\":[{\"buttons\":[{\"args\":[null,{\"frame\":{\"duration\":500,\"redraw\":true},\"fromcurrent\":true,\"mode\":\"immediate\",\"transition\":{\"duration\":500,\"easing\":\"linear\"}}],\"label\":\"&#9654;\",\"method\":\"animate\"},{\"args\":[[null],{\"frame\":{\"duration\":0,\"redraw\":true},\"fromcurrent\":true,\"mode\":\"immediate\",\"transition\":{\"duration\":0,\"easing\":\"linear\"}}],\"label\":\"&#9724;\",\"method\":\"animate\"}],\"direction\":\"left\",\"pad\":{\"r\":10,\"t\":70},\"showactive\":false,\"type\":\"buttons\",\"x\":0.1,\"xanchor\":\"right\",\"y\":0,\"yanchor\":\"top\"}],\"xaxis\":{\"anchor\":\"y\",\"domain\":[0.0,1.0],\"title\":{\"text\":\"Happiness Score\"}},\"yaxis\":{\"anchor\":\"x\",\"domain\":[0.0,1.0],\"title\":{\"text\":\"Country\"}}},                        {\"responsive\": true}                    ).then(function(){\n",
       "                            Plotly.addFrames('6875a2a4-5a47-4708-8a15-0d7221064492', [{\"data\":[{\"alignmentgroup\":\"True\",\"hovertemplate\":\"year=2015<br>Happiness Score=%{marker.color}<br>Country=%{y}<extra></extra>\",\"legendgroup\":\"\",\"marker\":{\"color\":[7.284,7.286,7.364,7.378,7.406,7.427,7.522,7.527,7.561,7.587],\"coloraxis\":\"coloraxis\",\"pattern\":{\"shape\":\"\"}},\"name\":\"\",\"offsetgroup\":\"\",\"orientation\":\"h\",\"showlegend\":false,\"textposition\":\"auto\",\"type\":\"bar\",\"x\":[7.284,7.286,7.364,7.378,7.406,7.427,7.522,7.527,7.561,7.587],\"xaxis\":\"x\",\"y\":[\"Australia\",\"New Zealand\",\"Sweden\",\"Netherlands\",\"Finland\",\"Canada\",\"Norway\",\"Denmark\",\"Iceland\",\"Switzerland\"],\"yaxis\":\"y\"}],\"name\":\"2015\"},{\"data\":[{\"alignmentgroup\":\"True\",\"hovertemplate\":\"year=2016<br>Happiness Score=%{marker.color}<br>Country=%{y}<extra></extra>\",\"legendgroup\":\"\",\"marker\":{\"color\":[7.291,7.313,7.334,7.339,7.404,7.413,7.498,7.501,7.509,7.526],\"coloraxis\":\"coloraxis\",\"pattern\":{\"shape\":\"\"}},\"name\":\"\",\"offsetgroup\":\"\",\"orientation\":\"h\",\"showlegend\":false,\"textposition\":\"auto\",\"type\":\"bar\",\"x\":[7.291,7.313,7.334,7.339,7.404,7.413,7.498,7.501,7.509,7.526],\"xaxis\":\"x\",\"y\":[\"Sweden\",\"Australia\",\"New Zealand\",\"Netherlands\",\"Canada\",\"Finland\",\"Norway\",\"Iceland\",\"Switzerland\",\"Denmark\"],\"yaxis\":\"y\"}],\"name\":\"2016\"},{\"data\":[{\"alignmentgroup\":\"True\",\"hovertemplate\":\"year=2017<br>Happiness Score=%{marker.color}<br>Country=%{y}<extra></extra>\",\"legendgroup\":\"\",\"marker\":{\"color\":[7.28399991989136,7.28399991989136,7.31400012969971,7.31599998474121,7.3769998550415,7.4689998626709,7.49399995803833,7.50400018692017,7.52199983596802,7.53700017929077],\"coloraxis\":\"coloraxis\",\"pattern\":{\"shape\":\"\"}},\"name\":\"\",\"offsetgroup\":\"\",\"orientation\":\"h\",\"showlegend\":false,\"textposition\":\"auto\",\"type\":\"bar\",\"x\":[7.28399991989136,7.28399991989136,7.31400012969971,7.31599998474121,7.3769998550415,7.4689998626709,7.49399995803833,7.50400018692017,7.52199983596802,7.53700017929077],\"xaxis\":\"x\",\"y\":[\"Australia\",\"Sweden\",\"New Zealand\",\"Canada\",\"Netherlands\",\"Finland\",\"Switzerland\",\"Iceland\",\"Denmark\",\"Norway\"],\"yaxis\":\"y\"}],\"name\":\"2017\"},{\"data\":[{\"alignmentgroup\":\"True\",\"hovertemplate\":\"year=2018<br>Happiness Score=%{marker.color}<br>Country=%{y}<extra></extra>\",\"legendgroup\":\"\",\"marker\":{\"color\":[7.272,7.314,7.324,7.328,7.441,7.487,7.495,7.555,7.594,7.632],\"coloraxis\":\"coloraxis\",\"pattern\":{\"shape\":\"\"}},\"name\":\"\",\"offsetgroup\":\"\",\"orientation\":\"h\",\"showlegend\":false,\"textposition\":\"auto\",\"type\":\"bar\",\"x\":[7.272,7.314,7.324,7.328,7.441,7.487,7.495,7.555,7.594,7.632],\"xaxis\":\"x\",\"y\":[\"Australia\",\"Sweden\",\"New Zealand\",\"Canada\",\"Netherlands\",\"Switzerland\",\"Iceland\",\"Denmark\",\"Norway\",\"Finland\"],\"yaxis\":\"y\"}],\"name\":\"2018\"},{\"data\":[{\"alignmentgroup\":\"True\",\"hovertemplate\":\"year=2019<br>Happiness Score=%{marker.color}<br>Country=%{y}<extra></extra>\",\"legendgroup\":\"\",\"marker\":{\"color\":[7.246,7.278,7.307,7.343,7.48,7.488,7.494,7.554,7.6,7.769],\"coloraxis\":\"coloraxis\",\"pattern\":{\"shape\":\"\"}},\"name\":\"\",\"offsetgroup\":\"\",\"orientation\":\"h\",\"showlegend\":false,\"textposition\":\"auto\",\"type\":\"bar\",\"x\":[7.246,7.278,7.307,7.343,7.48,7.488,7.494,7.554,7.6,7.769],\"xaxis\":\"x\",\"y\":[\"Austria\",\"Canada\",\"New Zealand\",\"Sweden\",\"Switzerland\",\"Netherlands\",\"Iceland\",\"Norway\",\"Denmark\",\"Finland\"],\"yaxis\":\"y\"}],\"name\":\"2019\"}]);\n",
       "                        }).then(function(){\n",
       "                            \n",
       "var gd = document.getElementById('6875a2a4-5a47-4708-8a15-0d7221064492');\n",
       "var x = new MutationObserver(function (mutations, observer) {{\n",
       "        var display = window.getComputedStyle(gd).display;\n",
       "        if (!display || display === 'none') {{\n",
       "            console.log([gd, 'removed!']);\n",
       "            Plotly.purge(gd);\n",
       "            observer.disconnect();\n",
       "        }}\n",
       "}});\n",
       "\n",
       "// Listen for the removal of the full notebook cells\n",
       "var notebookContainer = gd.closest('#notebook-container');\n",
       "if (notebookContainer) {{\n",
       "    x.observe(notebookContainer, {childList: true});\n",
       "}}\n",
       "\n",
       "// Listen for the clearing of the current output cell\n",
       "var outputEl = gd.closest('.output');\n",
       "if (outputEl) {{\n",
       "    x.observe(outputEl, {childList: true});\n",
       "}}\n",
       "\n",
       "                        })                };                });            </script>        </div>"
      ]
     },
     "metadata": {},
     "output_type": "display_data"
    },
    {
     "data": {
      "text/plain": [
       "<Figure size 1584x1584 with 0 Axes>"
      ]
     },
     "metadata": {},
     "output_type": "display_data"
    }
   ],
   "source": [
    "#plotting the top happiest countries from 2015-2019\n",
    "plt.figure(figsize=(22,22))\n",
    "#sns.set(font_scale=1.45)\n",
    "\n",
    "import plotly.graph_objects as go\n",
    "\n",
    "fig = go.Figure()\n",
    "\n",
    "fig.update_layout(\n",
    "    title=\"Plot Title\",\n",
    "    xaxis_title=\"x Axis Title\",\n",
    "    yaxis_title=\"y Axis Title\",\n",
    "    font=dict(\n",
    "        family=\"Courier New, monospace\",\n",
    "        size=18,\n",
    "        color=\"#7f7f7f\"\n",
    "    )\n",
    ")\n",
    "\n",
    "\n",
    "\n",
    "px.bar(data_frame = rslt_df, \n",
    "       y = 'Country', \n",
    "       x = 'Happiness Score', \n",
    "       animation_frame = 'year',\n",
    "       color = 'Happiness Score', \n",
    "       title = 'Happiness Scores of the top 10 Happy Countries of the World for each year from 2015-2019',\n",
    "       orientation='h'\n",
    "    )"
   ]
  },
  {
   "cell_type": "code",
   "execution_count": 43,
   "id": "25530f91",
   "metadata": {},
   "outputs": [],
   "source": [
    "#clean suicide data to merge it with happiness data. We will use this new data frame to produce interactive plot\n",
    "#drop nan values\n",
    "suic_fil = dfsuicide.dropna()"
   ]
  },
  {
   "cell_type": "code",
   "execution_count": 44,
   "id": "b3c3aabe",
   "metadata": {},
   "outputs": [],
   "source": [
    "#renaming for agreement across dataframes\n",
    "suic_fil = suic_fil.rename(columns = {'country':\"Country\"})"
   ]
  },
  {
   "cell_type": "code",
   "execution_count": 45,
   "id": "4b6a330b",
   "metadata": {},
   "outputs": [],
   "source": [
    "# drop sex and age\n",
    "suic_fil = suic_fil.drop(['sex','age'], axis=1)"
   ]
  },
  {
   "cell_type": "code",
   "execution_count": 46,
   "id": "2be7f21e",
   "metadata": {},
   "outputs": [
    {
     "name": "stderr",
     "output_type": "stream",
     "text": [
      "C:\\Users\\kinna\\AppData\\Local\\Temp/ipykernel_4052/3866935475.py:2: FutureWarning:\n",
      "\n",
      "Indexing with multiple keys (implicitly converted to a tuple of keys) will be deprecated, use a list instead.\n",
      "\n"
     ]
    }
   ],
   "source": [
    "# sum population and suicides per country per year\n",
    "suic_red = suic_fil.groupby(['Country', 'year'])['suicides_no','population'].agg('sum')"
   ]
  },
  {
   "cell_type": "code",
   "execution_count": 47,
   "id": "52dabf54",
   "metadata": {},
   "outputs": [],
   "source": [
    "# add per capita column\n",
    "suic_red['per_capita'] = suic_red.suicides_no/suic_red.population"
   ]
  },
  {
   "cell_type": "code",
   "execution_count": 48,
   "id": "722475ee",
   "metadata": {},
   "outputs": [],
   "source": [
    "#merge suicide and happy dataframes together\n",
    "happy_sad = pd.merge(suic_red, happy, on=['Country','year'])"
   ]
  },
  {
   "cell_type": "code",
   "execution_count": 49,
   "id": "a892c365",
   "metadata": {},
   "outputs": [],
   "source": [
    "#merge world and happy_sad dataframes together\n",
    "whole_world = world.merge(happy_sad, on ='Country')"
   ]
  },
  {
   "cell_type": "code",
   "execution_count": 52,
   "id": "ad60a272",
   "metadata": {},
   "outputs": [],
   "source": [
    "#using whole world data to create interactive plot\n",
    "df=whole_world\n",
    "origin = widgets.Dropdown(\n",
    "    options=list(df['Continent'].unique()),\n",
    "    value='Asia',\n",
    "    description='Continent:',\n",
    ")\n",
    "\n",
    "\n",
    "# Assign an empty figure widget with two traces\n",
    "# trace1 = go.Histogram(x=df['Happiness Score'], opacity=0.75, name='Happiness Score')\n",
    "# first attempt\n",
    "# trace1=go.Scatter(\n",
    "#         x=df['suicides_no'],\n",
    "#         y=df['Happiness Score'],\n",
    "#         mode=\"markers\",\n",
    "#         marker=dict(color=\"DarkOrange\")\n",
    "#     )\n",
    "\n",
    "\n",
    "\n",
    "#second attempt\n",
    "\n",
    "trace1=go.Scatter(\n",
    "        x=df['suicides_no'],\n",
    "        y=df['Happiness Score'],\n",
    "        mode=\"markers\",\n",
    "        marker=dict(color=\"DarkOrange\"),\n",
    "        text=(df['Country'] +' Year: '+ df['year'].astype(str)),\n",
    "        textposition=\"top center\"\n",
    "    )\n",
    "\n",
    "\n",
    "\n",
    "# fig = go.Figure()\n",
    "\n",
    "# Add traces\n",
    "# fig.add_trace(\n",
    "#     go.Scatter(\n",
    "#         x=x0,\n",
    "#         y=y0,\n",
    "#         mode=\"markers\",\n",
    "#         marker=dict(color=\"DarkOrange\")\n",
    "#     )\n",
    "# )\n",
    "\n",
    "#trace2 = go.Histogram(x=df['dep_delay'], opacity=0.75, name='Departure Delays')\n",
    "g = go.FigureWidget(data=[trace1],\n",
    "                    layout=go.Layout(\n",
    "                        title=dict(\n",
    "                            text='Happiness Score Vs Suicides No'\n",
    "                        ),\n",
    "                        barmode='overlay'\n",
    "                    ))"
   ]
  },
  {
   "cell_type": "code",
   "execution_count": 53,
   "id": "7d105b89",
   "metadata": {},
   "outputs": [],
   "source": [
    "def validate():\n",
    "    if origin.value in df['Continent'].unique():\n",
    "        return True\n",
    "    else:\n",
    "        return False\n",
    "def response(change):\n",
    "    if validate():\n",
    "        filter_list = [i for i in df['Continent'] == origin.value]\n",
    "        temp_df = df[filter_list]\n",
    "        x1 =  temp_df['suicides_no']\n",
    "        y1 = temp_df['Happiness Score']\n",
    "        text1=(temp_df['Country'] +' Year: '+ temp_df['year'].astype(str))#temp_df['Country'] \n",
    "        with g.batch_update():\n",
    "            g.data[0].x = x1\n",
    "            g.data[0].y = y1\n",
    "            g.data[0].text = text1\n",
    "            g.layout.barmode = 'overlay'\n",
    "            g.layout.xaxis.title = 'suicides No'\n",
    "            g.layout.yaxis.title = 'Happiness Score'\n",
    "\n",
    "\n",
    "origin.observe(response, names=\"value\")"
   ]
  },
  {
   "cell_type": "code",
   "execution_count": 54,
   "id": "757a2e82",
   "metadata": {},
   "outputs": [
    {
     "data": {
      "application/vnd.jupyter.widget-view+json": {
       "model_id": "f7f3d0abfb7447358b3bebe94de6938a",
       "version_major": 2,
       "version_minor": 0
      },
      "text/plain": [
       "VBox(children=(HBox(children=(Dropdown(description='Continent:', options=('Asia', 'South America', 'Europe', '…"
      ]
     },
     "metadata": {},
     "output_type": "display_data"
    }
   ],
   "source": [
    "container2 = widgets.HBox([origin])\n",
    "widgets.VBox([container2,\n",
    "              g])"
   ]
  },
  {
   "cell_type": "code",
   "execution_count": null,
   "id": "3374da9f",
   "metadata": {},
   "outputs": [],
   "source": []
  }
 ],
 "metadata": {
  "kernelspec": {
   "display_name": "Python 3 (ipykernel)",
   "language": "python",
   "name": "python3"
  },
  "language_info": {
   "codemirror_mode": {
    "name": "ipython",
    "version": 3
   },
   "file_extension": ".py",
   "mimetype": "text/x-python",
   "name": "python",
   "nbconvert_exporter": "python",
   "pygments_lexer": "ipython3",
   "version": "3.9.6"
  }
 },
 "nbformat": 4,
 "nbformat_minor": 5
}
